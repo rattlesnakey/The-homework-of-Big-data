{
 "cells": [
  {
   "cell_type": "code",
   "execution_count": 1,
   "metadata": {},
   "outputs": [],
   "source": [
    "import pandas as pd\n",
    "from sklearn.feature_extraction.text import TfidfVectorizer\n",
    "from sklearn.feature_extraction import text\n",
    "from sklearn.decomposition import NMF\n",
    "import numpy as np\n",
    "import pickle\n",
    "import warnings  \n",
    "warnings.filterwarnings(\"ignore\", category=DeprecationWarning)\n",
    "warnings.filterwarnings('ignore')\n",
    "import matplotlib.pyplot as plt\n",
    "%matplotlib inline"
   ]
  },
  {
   "cell_type": "code",
   "execution_count": null,
   "metadata": {},
   "outputs": [],
   "source": []
  },
  {
   "cell_type": "code",
   "execution_count": 2,
   "metadata": {},
   "outputs": [],
   "source": [
    "pd.set_option('max_colwidth', 1000)\n",
    "pd.options.display.max_rows = 500\n",
    "# Read file\n",
    "df1 = pd.read_pickle('data_prep.pkl')"
   ]
  },
  {
   "cell_type": "code",
   "execution_count": null,
   "metadata": {},
   "outputs": [],
   "source": []
  },
  {
   "cell_type": "code",
   "execution_count": 3,
   "metadata": {},
   "outputs": [],
   "source": [
    "kmin, kmax = 4, 50"
   ]
  },
  {
   "cell_type": "code",
   "execution_count": null,
   "metadata": {},
   "outputs": [],
   "source": []
  },
  {
   "cell_type": "code",
   "execution_count": 4,
   "metadata": {},
   "outputs": [],
   "source": [
    "my_stop_words = open(r'C:\\Users\\admin\\Desktop\\stop-words.txt').read().split('\\n')\n",
    "\n",
    "vectorizer = TfidfVectorizer(stop_words=my_stop_words, min_df = 20)\n",
    "A = vectorizer.fit_transform(df1['content'])\n",
    "terms = vectorizer.get_feature_names()"
   ]
  },
  {
   "cell_type": "code",
   "execution_count": null,
   "metadata": {},
   "outputs": [],
   "source": []
  },
  {
   "cell_type": "code",
   "execution_count": 5,
   "metadata": {},
   "outputs": [
    {
     "name": "stdout",
     "output_type": "stream",
     "text": [
      "Applying NMF for k=4 ...\n",
      "Applying NMF for k=5 ...\n",
      "Applying NMF for k=6 ...\n",
      "Applying NMF for k=7 ...\n",
      "Applying NMF for k=8 ...\n",
      "Applying NMF for k=9 ...\n",
      "Applying NMF for k=10 ...\n",
      "Applying NMF for k=11 ...\n",
      "Applying NMF for k=12 ...\n",
      "Applying NMF for k=13 ...\n",
      "Applying NMF for k=14 ...\n",
      "Applying NMF for k=15 ...\n",
      "Applying NMF for k=16 ...\n",
      "Applying NMF for k=17 ...\n",
      "Applying NMF for k=18 ...\n",
      "Applying NMF for k=19 ...\n",
      "Applying NMF for k=20 ...\n",
      "Applying NMF for k=21 ...\n",
      "Applying NMF for k=22 ...\n",
      "Applying NMF for k=23 ...\n",
      "Applying NMF for k=24 ...\n",
      "Applying NMF for k=25 ...\n",
      "Applying NMF for k=26 ...\n",
      "Applying NMF for k=27 ...\n",
      "Applying NMF for k=28 ...\n",
      "Applying NMF for k=29 ...\n",
      "Applying NMF for k=30 ...\n",
      "Applying NMF for k=31 ...\n",
      "Applying NMF for k=32 ...\n",
      "Applying NMF for k=33 ...\n",
      "Applying NMF for k=34 ...\n",
      "Applying NMF for k=35 ...\n",
      "Applying NMF for k=36 ...\n",
      "Applying NMF for k=37 ...\n",
      "Applying NMF for k=38 ...\n",
      "Applying NMF for k=39 ...\n",
      "Applying NMF for k=40 ...\n",
      "Applying NMF for k=41 ...\n",
      "Applying NMF for k=42 ...\n",
      "Applying NMF for k=43 ...\n",
      "Applying NMF for k=44 ...\n",
      "Applying NMF for k=45 ...\n",
      "Applying NMF for k=46 ...\n",
      "Applying NMF for k=47 ...\n",
      "Applying NMF for k=48 ...\n",
      "Applying NMF for k=49 ...\n",
      "Applying NMF for k=50 ...\n"
     ]
    }
   ],
   "source": [
    "from sklearn import decomposition\n",
    "topic_models = []\n",
    "# try each value of k\n",
    "for k in range(kmin,kmax+1):\n",
    "    print(\"Applying NMF for k=%d ...\" % k )\n",
    "    # run NMF\n",
    "    model = decomposition.NMF(random_state =1, init=\"nndsvd\", n_components=k ) \n",
    "    W = model.fit_transform( A )\n",
    "    H = model.components_    \n",
    "    # store for later\n",
    "    topic_models.append( (k,W,H) )"
   ]
  },
  {
   "cell_type": "code",
   "execution_count": null,
   "metadata": {},
   "outputs": [],
   "source": []
  },
  {
   "cell_type": "code",
   "execution_count": 6,
   "metadata": {},
   "outputs": [],
   "source": [
    "import re\n",
    "class TokenGenerator:\n",
    "    def __init__( self, documents, stopwords ):\n",
    "        self.documents = documents\n",
    "        self.stopwords = stopwords\n",
    "        self.tokenizer = re.compile( r\"(?u)\\b\\w\\w+\\b\" )\n",
    "\n",
    "    def __iter__( self ):\n",
    "        print(\"Building Word2Vec model ...\")\n",
    "        for doc in self.documents:\n",
    "            tokens = []\n",
    "            for tok in self.tokenizer.findall( doc ):\n",
    "                if tok in self.stopwords:\n",
    "                    tokens.append( \"<stopword>\" )\n",
    "                elif len(tok) >= 2:\n",
    "                    tokens.append( tok )\n",
    "            yield tokens"
   ]
  },
  {
   "cell_type": "code",
   "execution_count": null,
   "metadata": {},
   "outputs": [],
   "source": []
  },
  {
   "cell_type": "code",
   "execution_count": 7,
   "metadata": {},
   "outputs": [
    {
     "name": "stdout",
     "output_type": "stream",
     "text": [
      "Read 5109 raw text documents\n"
     ]
    }
   ],
   "source": [
    "raw_documents = []\n",
    "for line in df1['content']:\n",
    "    raw_documents.append( line.strip().lower() )\n",
    "print(\"Read %d raw text documents\" % len(raw_documents))"
   ]
  },
  {
   "cell_type": "code",
   "execution_count": null,
   "metadata": {},
   "outputs": [],
   "source": []
  },
  {
   "cell_type": "code",
   "execution_count": 8,
   "metadata": {},
   "outputs": [
    {
     "data": {
      "text/plain": [
       "['不满，一岁，的，永康，是，个，饱经，病痛，折磨，的，孩子，，，２，０，１，１，年，７，月，５，日，出生，的，他，，，患有，先天性，心脏病，、，疝气，，，一，出生，便，被遗弃，。，２，０，１，２，年，１，月，８，日，，，才，５，个，月，大，的，永康，被，发现，呼吸困难，，，随后，送往，医院，进行，抢救，治疗，，，病情，稳定，后于，１，月，２，８，日，出院，。，，２，０，１，２，年，２，月，１，３，号，，，永康，在，思源，焦点，公益，基金，的，帮助，下，在，医院，接受，手术，治疗，，，术后，仅，８，天，，，永康，突发，右侧，腹股沟，斜，疝，嵌顿，及，肠梗阻，，，又，再次，进行，抢救，治疗，，，术后，进，重症，监护室，。，３，月，７，日，，，几经，病痛，折磨，的，永康，终于，康复，出院，，，目前，他，的，病情，已经，稳定，。',\n",
       " '２，０，０，９，年，８，月，，，《，２，０，０，９，中国，慈善，导航，行动，》，第一季，正式，启动，，，此档，由，ｃ，ｃ，ｔ，ｖ，－，１，２，《，大家，看法，》，精心制作，的，节目，将，于，２，０，０，９，年，８，月，１，７，日至，８，月，２，３，日，每晚，８，点整，在，中央电视台，社会，与，法，频道，ｃ，ｃ，ｔ，ｖ，－，１，２，正式，播出，。，节目，将，从，１，０，０，多个，“，５，．，１，２，灾后，重建，资助，项目，”，中，挑选出，１，８，个，优秀，服务项目，参与，电视，评估，及，展示，，，１，８，个，项目，中，究竟，哪些项目，将，得到，千万，基金，的，支持，…，\\u3000，［，详细，］']"
      ]
     },
     "execution_count": 8,
     "metadata": {},
     "output_type": "execute_result"
    }
   ],
   "source": [
    "raw_documents[:2]"
   ]
  },
  {
   "cell_type": "code",
   "execution_count": null,
   "metadata": {},
   "outputs": [],
   "source": []
  },
  {
   "cell_type": "code",
   "execution_count": 10,
   "metadata": {},
   "outputs": [],
   "source": [
    "stop_words = open(r'C:\\Users\\admin\\Desktop\\stop-words.txt').read().split('\\n')"
   ]
  },
  {
   "cell_type": "code",
   "execution_count": null,
   "metadata": {},
   "outputs": [],
   "source": []
  },
  {
   "cell_type": "code",
   "execution_count": null,
   "metadata": {},
   "outputs": [],
   "source": []
  },
  {
   "cell_type": "code",
   "execution_count": 12,
   "metadata": {
    "scrolled": true
   },
   "outputs": [
    {
     "name": "stdout",
     "output_type": "stream",
     "text": [
      "Building Word2Vec model ...\n",
      "Building Word2Vec model ...\n",
      "Building Word2Vec model ...\n",
      "Building Word2Vec model ...\n",
      "Building Word2Vec model ...\n",
      "Building Word2Vec model ...\n"
     ]
    }
   ],
   "source": [
    "import gensim\n",
    "docgen = TokenGenerator( raw_documents, stop_words )\n",
    "# the model has 500 dimensions, the minimum document-term frequency is 20\n",
    "w2v_model = gensim.models.Word2Vec(docgen, size=500, min_count=20, sg=1)"
   ]
  },
  {
   "cell_type": "code",
   "execution_count": 13,
   "metadata": {},
   "outputs": [
    {
     "name": "stdout",
     "output_type": "stream",
     "text": [
      "Model has 3014 terms\n"
     ]
    }
   ],
   "source": [
    "print( \"Model has %d terms\" % len(w2v_model.wv.vocab) )"
   ]
  },
  {
   "cell_type": "code",
   "execution_count": null,
   "metadata": {},
   "outputs": [],
   "source": []
  },
  {
   "cell_type": "code",
   "execution_count": 14,
   "metadata": {},
   "outputs": [],
   "source": [
    "w2v_model.save(\"w2v-model.bin\")"
   ]
  },
  {
   "cell_type": "code",
   "execution_count": null,
   "metadata": {},
   "outputs": [],
   "source": []
  },
  {
   "cell_type": "code",
   "execution_count": 29,
   "metadata": {},
   "outputs": [],
   "source": [
    "def calculate_coherence( w2v_model, term_rankings ):\n",
    "    overall_coherence = 0.0\n",
    "    for topic_index in range(len(term_rankings)):\n",
    "        # check each pair of terms\n",
    "        pair_scores = []\n",
    "        for pair in combinations( term_rankings[topic_index], 2 ):#俩俩之间的排列组合\n",
    "            \n",
    "            # 作业四：使用 word2vector 模型，计算 pair 之间的相似度\n",
    "            pair_scores.append( w2v_model.similarity(pair[0],pair[1]))\n",
    "        # get the mean for all pairs in this topic\n",
    "        topic_score = sum(pair_scores) / len(pair_scores)\n",
    "        overall_coherence += topic_score\n",
    "    # get the mean score across all topics\n",
    "    return overall_coherence / len(term_rankings)"
   ]
  },
  {
   "cell_type": "code",
   "execution_count": null,
   "metadata": {},
   "outputs": [],
   "source": []
  },
  {
   "cell_type": "code",
   "execution_count": null,
   "metadata": {},
   "outputs": [],
   "source": []
  },
  {
   "cell_type": "code",
   "execution_count": null,
   "metadata": {},
   "outputs": [],
   "source": []
  },
  {
   "cell_type": "code",
   "execution_count": null,
   "metadata": {},
   "outputs": [],
   "source": []
  },
  {
   "cell_type": "code",
   "execution_count": null,
   "metadata": {},
   "outputs": [],
   "source": []
  },
  {
   "cell_type": "code",
   "execution_count": null,
   "metadata": {},
   "outputs": [],
   "source": []
  },
  {
   "cell_type": "code",
   "execution_count": 30,
   "metadata": {},
   "outputs": [],
   "source": [
    "import numpy as np\n",
    "def get_descriptor( all_terms, H, topic_index, top ):\n",
    "    # reverse sort the values to sort the indices\n",
    "    top_indices = np.argsort( H[topic_index,:] )[::-1]\n",
    "    # now get the terms corresponding to the top-ranked indices\n",
    "    top_terms = []\n",
    "    for term_index in top_indices[0:top]:\n",
    "        top_terms.append( all_terms[term_index] )\n",
    "    return top_terms"
   ]
  },
  {
   "cell_type": "code",
   "execution_count": null,
   "metadata": {},
   "outputs": [],
   "source": []
  },
  {
   "cell_type": "code",
   "execution_count": null,
   "metadata": {},
   "outputs": [],
   "source": []
  },
  {
   "cell_type": "code",
   "execution_count": null,
   "metadata": {},
   "outputs": [],
   "source": []
  },
  {
   "cell_type": "code",
   "execution_count": null,
   "metadata": {},
   "outputs": [],
   "source": []
  },
  {
   "cell_type": "code",
   "execution_count": null,
   "metadata": {},
   "outputs": [],
   "source": []
  },
  {
   "cell_type": "code",
   "execution_count": null,
   "metadata": {},
   "outputs": [],
   "source": []
  },
  {
   "cell_type": "code",
   "execution_count": 31,
   "metadata": {},
   "outputs": [
    {
     "name": "stdout",
     "output_type": "stream",
     "text": [
      "K=04: Coherence=0.5786\n",
      "K=05: Coherence=0.6094\n",
      "K=06: Coherence=0.6203\n",
      "K=07: Coherence=0.6307\n",
      "K=08: Coherence=0.6144\n",
      "K=09: Coherence=0.6448\n",
      "K=10: Coherence=0.6637\n",
      "K=11: Coherence=0.6914\n",
      "K=12: Coherence=0.7025\n",
      "K=13: Coherence=0.7095\n",
      "K=14: Coherence=0.7053\n",
      "K=15: Coherence=0.6936\n",
      "K=16: Coherence=0.6927\n",
      "K=17: Coherence=0.6966\n",
      "K=18: Coherence=0.6938\n",
      "K=19: Coherence=0.7144\n",
      "K=20: Coherence=0.7090\n",
      "K=21: Coherence=0.7088\n",
      "K=22: Coherence=0.7131\n",
      "K=23: Coherence=0.7086\n",
      "K=24: Coherence=0.7194\n",
      "K=25: Coherence=0.7150\n",
      "K=26: Coherence=0.7081\n",
      "K=27: Coherence=0.7114\n",
      "K=28: Coherence=0.7140\n",
      "K=29: Coherence=0.7075\n",
      "K=30: Coherence=0.7123\n",
      "K=31: Coherence=0.7143\n",
      "K=32: Coherence=0.7113\n",
      "K=33: Coherence=0.7060\n",
      "K=34: Coherence=0.6931\n",
      "K=35: Coherence=0.6993\n",
      "K=36: Coherence=0.7049\n",
      "K=37: Coherence=0.7146\n",
      "K=38: Coherence=0.7005\n",
      "K=39: Coherence=0.7166\n",
      "K=40: Coherence=0.7042\n",
      "K=41: Coherence=0.7064\n",
      "K=42: Coherence=0.7095\n",
      "K=43: Coherence=0.7112\n",
      "K=44: Coherence=0.7087\n",
      "K=45: Coherence=0.7116\n",
      "K=46: Coherence=0.7059\n",
      "K=47: Coherence=0.7157\n",
      "K=48: Coherence=0.7110\n",
      "K=49: Coherence=0.7140\n",
      "K=50: Coherence=0.7114\n"
     ]
    }
   ],
   "source": [
    "from itertools import combinations\n",
    "k_values = []\n",
    "coherences = []\n",
    "for (k,W,H) in topic_models:\n",
    "    # Get all of the topic descriptors - the term_rankings, based on top 10 terms\n",
    "    term_rankings = []\n",
    "    for topic_index in range(k):\n",
    "        term_rankings.append( get_descriptor( terms, H, topic_index, 10 ) )\n",
    "    # Now calculate the coherence based on our Word2vec model\n",
    "    k_values.append( k )\n",
    "    coherences.append( calculate_coherence( w2v_model,term_rankings ) )\n",
    "    print(\"K=%02d: Coherence=%.4f\" % ( k, coherences[-1] ) )"
   ]
  },
  {
   "cell_type": "code",
   "execution_count": null,
   "metadata": {},
   "outputs": [],
   "source": []
  },
  {
   "cell_type": "code",
   "execution_count": null,
   "metadata": {},
   "outputs": [],
   "source": []
  },
  {
   "cell_type": "code",
   "execution_count": null,
   "metadata": {},
   "outputs": [],
   "source": []
  },
  {
   "cell_type": "code",
   "execution_count": null,
   "metadata": {},
   "outputs": [],
   "source": []
  },
  {
   "cell_type": "code",
   "execution_count": null,
   "metadata": {},
   "outputs": [],
   "source": []
  },
  {
   "cell_type": "code",
   "execution_count": 32,
   "metadata": {},
   "outputs": [],
   "source": [
    "import matplotlib\n",
    "%matplotlib inline\n",
    "plt.style.use(\"ggplot\")\n",
    "matplotlib.rcParams.update({\"font.size\": 14})"
   ]
  },
  {
   "cell_type": "code",
   "execution_count": null,
   "metadata": {},
   "outputs": [],
   "source": []
  },
  {
   "cell_type": "code",
   "execution_count": 33,
   "metadata": {},
   "outputs": [
    {
     "data": {
      "image/png": "[encoded data removed]",
      "text/plain": [
       "<Figure size 936x504 with 1 Axes>"
      ]
     },
     "metadata": {},
     "output_type": "display_data"
    }
   ],
   "source": [
    "fig = plt.figure(figsize=(13,7))\n",
    "# create the line plot\n",
    "ax = plt.plot( k_values, coherences )\n",
    "plt.xticks(k_values)\n",
    "plt.xlabel(\"Number of Topics\")\n",
    "plt.ylabel(\"Mean Coherence\")\n",
    "# add the points\n",
    "plt.scatter( k_values, coherences, s=120)\n",
    "# find and annotate the maximum point on the plot\n",
    "ymax = max(coherences)\n",
    "xpos = coherences.index(ymax)\n",
    "best_k = k_values[xpos]\n",
    "plt.annotate( \"k=%d\" % best_k, xy=(best_k, ymax), xytext=(best_k, ymax), textcoords=\"offset points\", fontsize=16)\n",
    "# show the plot\n",
    "plt.show()"
   ]
  },
  {
   "cell_type": "code",
   "execution_count": null,
   "metadata": {},
   "outputs": [],
   "source": []
  },
  {
   "cell_type": "code",
   "execution_count": 34,
   "metadata": {},
   "outputs": [],
   "source": [
    "k = best_k\n",
    "# get the model that we generated earlier.\n",
    "W = topic_models[k-kmin][1]\n",
    "H = topic_models[k-kmin][2]"
   ]
  },
  {
   "cell_type": "code",
   "execution_count": null,
   "metadata": {},
   "outputs": [],
   "source": []
  },
  {
   "cell_type": "code",
   "execution_count": 35,
   "metadata": {},
   "outputs": [
    {
     "name": "stdout",
     "output_type": "stream",
     "text": [
      "Topic 01: 体育, 天下, 搜狐, 广播节目, 节目, 最强音, 传统媒体, 跨入, 诚邀, 联系电话\n",
      "Topic 02: 我们, 自己, 一个, 他们, 没有, 可以, 已经, 因为, 现在, 这个\n",
      "Topic 03: 增长, 亿元, 同比, 上半年, 下降, 月份, 今年, 数据, 环比, 亿美元\n",
      "Topic 04: 奥运会, 比赛, 伦敦, 奥运, 北京, 选手, 冠军, 英国, 获得, 分钟\n",
      "Topic 05: 叙利亚, 土耳其, 安南, 联合国, 反对派, 阿萨德, 大马士革, 巴沙尔, 武装, 冲突\n",
      "Topic 06: 工作, 发展, 建设, 要求, 项目, 会议, 召开, 推进, 服务, 问题\n",
      "Topic 07: 公司, 公告, 股份, 有限公司, 万元, 集团, 董事会, 股东, 重大, 业绩\n",
      "Topic 08: 中国, 国际, 经济, 北京, 全球, 发展, 韩国, 合作, 国家, 世界\n",
      "Topic 09: 发生, 死亡, 造成, 事故, 受伤, 袭击, 医院, 一辆, 当地, 警方\n",
      "Topic 10: 男子, 警方, 一名, 嫌疑人, 民警, 犯罪, 报警, 派出所, 抓获, 接到\n",
      "Topic 11: 发现, 社区, 居民, 现场, 市民, 小区, 昨日, 进行, 车辆, 上午\n",
      "Topic 12: 学生, 考生, 学校, 高考, 教育, 录取, 志愿, 今年, 考试, 招生\n",
      "Topic 13: 航天员, 神舟, 九号, 飞船, 天宫, 载人, 对接, 一号, 任务, 飞行\n",
      "Topic 14: 美国, 奥巴马, 英国, 报道, 经济, 全球, 总统, 华盛顿, 显示, 一些\n",
      "Topic 15: 天气, 暴雨, 地区, 气温, 毫米, 高温, 南部, 出现, 部分, 北部\n",
      "Topic 16: 报告, 产品, 提交, 必须, 申请, 审核, 编辑, 为什么, 通过, 合格\n",
      "Topic 17: 日本, 钓鱼岛, 东京, 报道, 日本共同社, 政府, 领土, 中新网, 韩国, 反对\n",
      "Topic 18: 价格, 蔬菜, 上涨, 监测, 下降, 使用, 持平, 涨幅, 为主, 相比\n",
      "Topic 19: 美元, 市场, 欧元, 利率, 央行, 下跌, 下调, 经济, 银行, 欧洲央行\n",
      "Topic 20: 伊朗, 制裁, 欧盟, 石油, 导弹, 国家, 进口, 革命, 西方, 问题\n",
      "Topic 21: 俄罗斯, 总统, 表示, 台湾, 报道, 主席, 日电, 中新网, 总理, 埃及\n",
      "Topic 22: 企业, 生产, 产品, 行业, 服务, 集团, 食品, 经营, 有限公司, 建立\n",
      "Topic 23: 基金, 投资, 债券, 管理, 资产, 股票, 证券, 资金, 投资者, 账户\n",
      "Topic 24: 活动, 文化, 举行, 旅游, 举办, 开展, 参加, 艺术, 大赛, 主题\n"
     ]
    }
   ],
   "source": [
    "for topic_index in range(k):\n",
    "    descriptor = get_descriptor( terms, H, topic_index, 10 )\n",
    "    str_descriptor = \", \".join( descriptor )\n",
    "    print(\"Topic %02d: %s\" % ( topic_index+1, str_descriptor ) )"
   ]
  },
  {
   "cell_type": "code",
   "execution_count": null,
   "metadata": {},
   "outputs": [],
   "source": []
  },
  {
   "cell_type": "code",
   "execution_count": null,
   "metadata": {},
   "outputs": [],
   "source": []
  }
 ],
 "metadata": {
  "kernelspec": {
   "display_name": "Python 3",
   "language": "python",
   "name": "python3"
  },
  "language_info": {
   "codemirror_mode": {
    "name": "ipython",
    "version": 3
   },
   "file_extension": ".py",
   "mimetype": "text/x-python",
   "name": "python",
   "nbconvert_exporter": "python",
   "pygments_lexer": "ipython3",
   "version": "3.7.4"
  }
 },
 "nbformat": 4,
 "nbformat_minor": 2
}
