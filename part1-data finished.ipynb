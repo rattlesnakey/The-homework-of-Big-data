{
 "cells": [
  {
   "cell_type": "code",
   "execution_count": null,
   "metadata": {},
   "outputs": [],
   "source": []
  },
  {
   "cell_type": "code",
   "execution_count": 1,
   "metadata": {
    "scrolled": true
   },
   "outputs": [],
   "source": [
    "import pandas as pd\n",
    "from sklearn.feature_extraction.text import TfidfVectorizer\n",
    "from sklearn.feature_extraction import text\n",
    "from sklearn.decomposition import NMF\n",
    "import numpy as np\n",
    "import pickle \n",
    "import warnings  \n",
    "warnings.filterwarnings(\"ignore\", category=DeprecationWarning)\n",
    "warnings.filterwarnings('ignore')\n",
    "import matplotlib.pyplot as plt\n",
    "%matplotlib inline\n",
    "\n",
    "import jieba\n",
    "import jieba.posseg as pseg"
   ]
  },
  {
   "cell_type": "code",
   "execution_count": null,
   "metadata": {},
   "outputs": [],
   "source": []
  },
  {
   "cell_type": "code",
   "execution_count": 45,
   "metadata": {},
   "outputs": [
    {
     "name": "stdout",
     "output_type": "stream",
     "text": [
      "# 作业一：为 content 中的内容分词，请替换下行中的 ...\n",
      "df_orig['content'] = (df_orig['content']).apply(lambda x:(jieba.lcut(str(x))).split(\",\"))#apply函数可以有多个参数，第一个是函数，后面是该函数所需用到的变量\n",
      "#lambda函数 定义了变量“：”后跟的是变量满足的表达式\n",
      "import pandas as pd\n",
      "from sklearn.feature_extraction.text import TfidfVectorizer\n",
      "from sklearn.feature_extraction import text\n",
      "from sklearn.decomposition import NMF\n",
      "import numpy as np\n",
      "import pickle \n",
      "import warnings  \n",
      "warnings.filterwarnings(\"ignore\", category=DeprecationWarning)\n",
      "warnings.filterwarnings('ignore')\n",
      "import matplotlib.pyplot as plt\n",
      "%matplotlib inline\n",
      "\n",
      "import jieba\n",
      "import jieba.posseg as pseg\n",
      "df_orig = pd.read_csv(r'C:\\Users\\admin\\Desktop\\sogou.news.50000.csv')#读入文件赋值给df——orig\n",
      "df_orig.shape#求出该表格矩阵的维数\n",
      "df_orig.head()#观察数据是否读取正确（head（）函数只读取前5行）\n",
      "# Check how many rows have missing values for consumer_complaint_narrative column\n",
      "df_orig.content.isnull().values.sum()\n",
      "# extract only the relevant column for this project\n",
      "df_orig = df_orig.loc[:,['content']]#loc函数左边的参数是查看的行的范围，右边是你所要查看的特定的列（就是content那一列）\n",
      "# Exclude all rows with null consumer_complaint_narrative\n",
      "df_orig.dropna(inplace=True)#，用于过滤数据中的缺失数据.drop函数有thresh，inplace用法，inplace=True：不创建新的对象，直接对原始对象进行修改，inplace=False：对数据进行修改，创建并返回新的对象承载其修改结果。\n",
      "df_orig.shape\n",
      "pd.set_option('max_colwidth', 1000)#列长度\n",
      "pd.options.display.max_rows = 500#最多显示五百行\n",
      "print(data)\n",
      "print(data)\n",
      "data=jieba.lcut(str(df_orig['content']))\n",
      "data=jieba.lcut(str(df_orig['content']))\n",
      "print(data)\n",
      "# 作业一：为 content 中的内容分词，请替换下行中的 ...\n",
      "df_orig['content'] = (df_orig['content']).apply(lambda x:(jieba.lcut(str(x))).split(\",\"))#apply函数可以有多个参数，第一个是函数，后面是该函数所需用到的变量\n",
      "#lambda函数 定义了变量“：”后跟的是变量满足的表达式\n",
      "# 作业一：为 content 中的内容分词，请替换下行中的 ...\n",
      "df_orig['content'] = (df_orig['content']).apply(lambda x:(jieba.lcut(str(x))).join(\",\")#apply函数可以有多个参数，第一个是函数，后面是该函数所需用到的变量\n",
      "#lambda函数 定义了变量“：”后跟的是变量满足的表达式\n",
      "# 作业一：为 content 中的内容分词，请替换下行中的 ...\n",
      "df_orig['content'] = (df_orig['content']).apply(lambda x:(jieba.lcut(str(x)).join(\",\"))#apply函数可以有多个参数，第一个是函数，后面是该函数所需用到的变量\n",
      "#lambda函数 定义了变量“：”后跟的是变量满足的表达式\n",
      "# 作业一：为 content 中的内容分词，请替换下行中的 ...\n",
      "df_orig['content'] = (df_orig['content']).apply(lambda x:(jieba.lcut(str(x))).join(\",\"))#apply函数可以有多个参数，第一个是函数，后面是该函数所需用到的变量\n",
      "#lambda函数 定义了变量“：”后跟的是变量满足的表达式\n",
      "# 作业一：为 content 中的内容分词，请替换下行中的 ...\n",
      "df_orig['content'] = (df_orig['content']).apply(lambda x:(jieba.lcut(str(x)).join(\",\"))#apply函数可以有多个参数，第一个是函数，后面是该函数所需用到的变量\n",
      "#lambda函数 定义了变量“：”后跟的是变量满足的表达式\n",
      "# 作业一：为 content 中的内容分词，请替换下行中的 ...\n",
      "df_orig['content'] = (df_orig['content']).apply(lambda x:(jieba.lcut(str(x))).join(\",\"))#apply函数可以有多个参数，第一个是函数，后面是该函数所需用到的变量\n",
      "#lambda函数 定义了变量“：”后跟的是变量满足的表达式\n",
      "# 作业一：为 content 中的内容分词，请替换下行中的 ...\n",
      "df_orig['content'] = (df_orig['content']).apply(lambda x:\"，\".join((jieba.lcut(str(x))))#apply函数可以有多个参数，第一个是函数，后面是该函数所需用到的变量\n",
      "#lambda函数 定义了变量“：”后跟的是变量满足的表达式\n",
      "# 作业一：为 content 中的内容分词，请替换下行中的 ...\n",
      "df_orig['content'] = (df_orig['content']).apply(lambda x:\"，\".join((jieba.lcut(str(x)))))#apply函数可以有多个参数，第一个是函数，后面是该函数所需用到的变量\n",
      "#lambda函数 定义了变量“：”后跟的是变量满足的表达式\n",
      "print((df_orig['content']))\n",
      "# Create a doc id for merging the results back to the original file \n",
      "df_orig.insert(0, 'Doc_Id', range(0, 0 + len(df_orig)))#insert不是只有两个参数吗\n",
      "df_orig.head()\n",
      "# save for use later\n",
      "df_orig.to_pickle('df_orig.pkl')\n",
      "df = df_orig.loc[:,['content','Doc_Id']]\n",
      "# save for use later\n",
      "df_orig.to_pickle('df_orig.pkl')\n",
      "df = df_orig.loc[:,['content','Doc_Id']]\n",
      "# Get the word count for each document\n",
      "df['word_count'] = df['content'].apply(lambda x: len(str(x).split(\" \")))#新建一个列\n",
      "df.head()\n",
      "# Summary statistics\n",
      "df.word_count.describe()\n",
      "# just to get a sizable data to work with in this tutorial\n",
      "df1= df[(df['word_count']>=293)&(df['word_count']<=412)]\n",
      "df1.shape\n",
      "df1.head()\n",
      "# Removing unwanted characters\n",
      "import re\n",
      "df1['content'] = df1['content'].str.replace('', '')\n",
      "df1.head()\n",
      "print(df1['content'])\n",
      "# Top 20 most frequent words\n",
      "freq = pd.Series(' '.join(df1['content']).split()).value_counts()[:20]\n",
      "freq\n",
      "# just to get a sizable data to work with in this tutorial\n",
      "df1= df[(df['word_count']>=293)&(df['word_count']<=412)]\n",
      "df1.shape\n",
      "def nouns(text):\n",
      "    is_noun = lambda pos: pos[0] == 'n'\n",
      "    pos_tagged = pseg.lcut(text.replace(' ', ''))\n",
      "    all_nouns = [word for (word, pos) in pos_tagged if is_noun(pos)]\n",
      "    return ' '.join(all_nouns)\n",
      "df1['data_nouns'] = pd.DataFrame(df1.content.apply(nouns))\n",
      "df1.head()\n",
      "# Further cleaning, removing stopwords\n",
      "import re\n",
      "temp =[]\n",
      "my_stop_words = open('./ch-stop-words.txt').read().split('\\n')\n",
      "\n",
      "for sentence in df1['data_nouns']:\n",
      "    words = [word for word in sentence.split(' ') if word not in my_stop_words]\n",
      "    temp.append(words)\n",
      "    \n",
      "final_X = temp\n",
      "# Further cleaning, removing stopwords\n",
      "import re\n",
      "temp =[]\n",
      "my_stop_words = open('C:\\Users\\admin\\Desktop\\stop-words.txt').read().split('\\n')\n",
      "\n",
      "for sentence in df1['data_nouns']:\n",
      "    words = [word for word in sentence.split(' ') if word not in my_stop_words]\n",
      "    temp.append(words)\n",
      "    \n",
      "final_X = temp\n",
      "# Further cleaning, removing stopwords\n",
      "import re\n",
      "temp =[]\n",
      "my_stop_words = open(r'C:\\Users\\admin\\Desktop\\stop-words.txt').read().split('\\n')\n",
      "\n",
      "for sentence in df1['data_nouns']:\n",
      "    words = [word for word in sentence.split(' ') if word not in my_stop_words]\n",
      "    temp.append(words)\n",
      "    \n",
      "final_X = temp\n",
      "histiory\n",
      "history\n"
     ]
    }
   ],
   "source": [
    "history"
   ]
  },
  {
   "cell_type": "code",
   "execution_count": 5,
   "metadata": {},
   "outputs": [],
   "source": [
    "df_orig = pd.read_csv(r'C:\\Users\\admin\\Desktop\\sogou.news.50000.csv')#读入文件赋值给df——orig"
   ]
  },
  {
   "cell_type": "code",
   "execution_count": null,
   "metadata": {},
   "outputs": [],
   "source": []
  },
  {
   "cell_type": "code",
   "execution_count": null,
   "metadata": {},
   "outputs": [],
   "source": []
  },
  {
   "cell_type": "code",
   "execution_count": 4,
   "metadata": {
    "scrolled": false
   },
   "outputs": [
    {
     "data": {
      "text/plain": [
       "(49828, 4)"
      ]
     },
     "execution_count": 4,
     "metadata": {},
     "output_type": "execute_result"
    }
   ],
   "source": [
    "df_orig.shape#求出该表格矩阵的维数"
   ]
  },
  {
   "cell_type": "code",
   "execution_count": null,
   "metadata": {},
   "outputs": [],
   "source": []
  },
  {
   "cell_type": "code",
   "execution_count": null,
   "metadata": {},
   "outputs": [],
   "source": []
  },
  {
   "cell_type": "code",
   "execution_count": 5,
   "metadata": {
    "scrolled": false
   },
   "outputs": [
    {
     "data": {
      "text/html": [
       "<div>\n",
       "<style scoped>\n",
       "    .dataframe tbody tr th:only-of-type {\n",
       "        vertical-align: middle;\n",
       "    }\n",
       "\n",
       "    .dataframe tbody tr th {\n",
       "        vertical-align: top;\n",
       "    }\n",
       "\n",
       "    .dataframe thead th {\n",
       "        text-align: right;\n",
       "    }\n",
       "</style>\n",
       "<table border=\"1\" class=\"dataframe\">\n",
       "  <thead>\n",
       "    <tr style=\"text-align: right;\">\n",
       "      <th></th>\n",
       "      <th>url</th>\n",
       "      <th>docno</th>\n",
       "      <th>contenttitle</th>\n",
       "      <th>content</th>\n",
       "    </tr>\n",
       "  </thead>\n",
       "  <tbody>\n",
       "    <tr>\n",
       "      <td>0</td>\n",
       "      <td>http://gongyi.sohu.com/20120706/n347457739.shtml</td>\n",
       "      <td>98590b972ad2f0ea-34913306c0bb3300</td>\n",
       "      <td>深圳地铁将设立ＶＩＰ头等车厢　买双倍票可享坐票</td>\n",
       "      <td>南都讯　记者刘凡　周昌和　任笑一　继推出日票后，深圳今后将设地铁ＶＩＰ头等车厢，设坐票制。昨...</td>\n",
       "    </tr>\n",
       "    <tr>\n",
       "      <td>1</td>\n",
       "      <td>http://gongyi.sohu.com/20120724/n348878190.shtml</td>\n",
       "      <td>5fa7926d2cd2f0ea-34913306c0bb3300</td>\n",
       "      <td>爸爸为女儿百万建幼儿园　消防设施３年仍不过关</td>\n",
       "      <td>NaN</td>\n",
       "    </tr>\n",
       "    <tr>\n",
       "      <td>2</td>\n",
       "      <td>http://gongyi.sohu.com/s2008/sourceoflife/</td>\n",
       "      <td>f2467af22cd2f0ea-34913306c0bb3300</td>\n",
       "      <td>中国西部是地球上主要干旱带之一，妇女是当地劳动力．．．</td>\n",
       "      <td>同心县地处宁夏中部干旱带的核心区，　冬寒长，春暖迟，夏热短，秋凉早，干旱少雨，蒸发强烈，风大...</td>\n",
       "    </tr>\n",
       "    <tr>\n",
       "      <td>3</td>\n",
       "      <td>http://gongyi.sohu.com/20120612/n345424232.shtml</td>\n",
       "      <td>0dadd5002ed2f0ea-34913306c0bb3300</td>\n",
       "      <td>思源焦点公益基金救助孩子：永康</td>\n",
       "      <td>不满一岁的永康是个饱经病痛折磨的孩子，２０１１年７月５日出生的他，患有先天性心脏病、疝气，一...</td>\n",
       "    </tr>\n",
       "    <tr>\n",
       "      <td>4</td>\n",
       "      <td>http://gongyi.sohu.com/20120629/n346847569.shtml</td>\n",
       "      <td>be6bcb252fd2f0ea-34913306c0bb3300</td>\n",
       "      <td>康师傅回应转卖废弃茶叶：下家承诺用废料做枕头</td>\n",
       "      <td>就废弃茶叶被转手事件发声明本报讯（记者刘俊）　“我们也是受害者！”昨日，有媒体报道称康师傅...</td>\n",
       "    </tr>\n",
       "  </tbody>\n",
       "</table>\n",
       "</div>"
      ],
      "text/plain": [
       "                                                url  \\\n",
       "0  http://gongyi.sohu.com/20120706/n347457739.shtml   \n",
       "1  http://gongyi.sohu.com/20120724/n348878190.shtml   \n",
       "2        http://gongyi.sohu.com/s2008/sourceoflife/   \n",
       "3  http://gongyi.sohu.com/20120612/n345424232.shtml   \n",
       "4  http://gongyi.sohu.com/20120629/n346847569.shtml   \n",
       "\n",
       "                               docno                 contenttitle  \\\n",
       "0  98590b972ad2f0ea-34913306c0bb3300      深圳地铁将设立ＶＩＰ头等车厢　买双倍票可享坐票   \n",
       "1  5fa7926d2cd2f0ea-34913306c0bb3300       爸爸为女儿百万建幼儿园　消防设施３年仍不过关   \n",
       "2  f2467af22cd2f0ea-34913306c0bb3300  中国西部是地球上主要干旱带之一，妇女是当地劳动力．．．   \n",
       "3  0dadd5002ed2f0ea-34913306c0bb3300              思源焦点公益基金救助孩子：永康   \n",
       "4  be6bcb252fd2f0ea-34913306c0bb3300       康师傅回应转卖废弃茶叶：下家承诺用废料做枕头   \n",
       "\n",
       "                                             content  \n",
       "0  南都讯　记者刘凡　周昌和　任笑一　继推出日票后，深圳今后将设地铁ＶＩＰ头等车厢，设坐票制。昨...  \n",
       "1                                                NaN  \n",
       "2  同心县地处宁夏中部干旱带的核心区，　冬寒长，春暖迟，夏热短，秋凉早，干旱少雨，蒸发强烈，风大...  \n",
       "3  不满一岁的永康是个饱经病痛折磨的孩子，２０１１年７月５日出生的他，患有先天性心脏病、疝气，一...  \n",
       "4  就废弃茶叶被转手事件发声明本报讯（记者刘俊）　“我们也是受害者！”昨日，有媒体报道称康师傅...  "
      ]
     },
     "execution_count": 5,
     "metadata": {},
     "output_type": "execute_result"
    }
   ],
   "source": [
    "df_orig.head()#观察数据是否读取正确（head（）函数只读取前5行）"
   ]
  },
  {
   "cell_type": "code",
   "execution_count": null,
   "metadata": {},
   "outputs": [],
   "source": []
  },
  {
   "cell_type": "code",
   "execution_count": null,
   "metadata": {},
   "outputs": [],
   "source": []
  },
  {
   "cell_type": "code",
   "execution_count": 6,
   "metadata": {},
   "outputs": [
    {
     "data": {
      "text/plain": [
       "3639"
      ]
     },
     "execution_count": 6,
     "metadata": {},
     "output_type": "execute_result"
    }
   ],
   "source": [
    "# Check how many rows have missing values for consumer_complaint_narrative column\n",
    "df_orig.content.isnull().values.sum()"
   ]
  },
  {
   "cell_type": "code",
   "execution_count": 6,
   "metadata": {},
   "outputs": [],
   "source": [
    "# extract only the relevant column for this project\n",
    "df_orig = df_orig.loc[:,['content']]#loc函数左边的参数是查看的行的范围，右边是你所要查看的特定的列（就是content那一列）"
   ]
  },
  {
   "cell_type": "code",
   "execution_count": null,
   "metadata": {},
   "outputs": [],
   "source": []
  },
  {
   "cell_type": "code",
   "execution_count": 7,
   "metadata": {},
   "outputs": [
    {
     "data": {
      "text/plain": [
       "(46189, 1)"
      ]
     },
     "execution_count": 7,
     "metadata": {},
     "output_type": "execute_result"
    }
   ],
   "source": [
    "# Exclude all rows with null consumer_complaint_narrative\n",
    "df_orig.dropna(inplace=True)#，用于过滤数据中的缺失数据.drop函数有thresh，inplace用法，inplace=True：不创建新的对象，直接对原始对象进行修改，inplace=False：对数据进行修改，创建并返回新的对象承载其修改结果。\n",
    "df_orig.shape"
   ]
  },
  {
   "cell_type": "code",
   "execution_count": null,
   "metadata": {},
   "outputs": [],
   "source": []
  },
  {
   "cell_type": "code",
   "execution_count": 8,
   "metadata": {
    "scrolled": true
   },
   "outputs": [
    {
     "name": "stderr",
     "output_type": "stream",
     "text": [
      "Building prefix dict from the default dictionary ...\n",
      "Loading model from cache C:\\Users\\admin\\AppData\\Local\\Temp\\jieba.cache\n",
      "Loading model cost 1.782 seconds.\n",
      "Prefix dict has been built succesfully.\n"
     ]
    }
   ],
   "source": [
    "data=jieba.lcut(str(df_orig['content']))\n"
   ]
  },
  {
   "cell_type": "code",
   "execution_count": null,
   "metadata": {},
   "outputs": [],
   "source": []
  },
  {
   "cell_type": "code",
   "execution_count": 9,
   "metadata": {},
   "outputs": [
    {
     "name": "stdout",
     "output_type": "stream",
     "text": [
      "['0', ' ', ' ', ' ', ' ', ' ', ' ', ' ', ' ', '南', '都', '讯', '\\u3000', '记者', '刘凡', '\\u3000', '周昌', '和', '\\u3000', '任笑', '一', '\\u3000', '继', '推出', '日票', '后', '，', '深圳', '今后', '将', '设', '地铁', 'Ｖ', 'Ｉ', 'Ｐ', '头等', '车厢', '，', '设', '坐票', '制', '。', '昨', '...', '\\n', '2', ' ', ' ', ' ', ' ', ' ', ' ', ' ', ' ', '同心县', '地处', '宁夏', '中部', '干旱', '带', '的', '核心区', '，', '\\u3000', '冬寒', '长', '，', '春暖迟', '，', '夏热', '短', '，', '秋凉', '早', '，', '干旱', '少雨', '，', '蒸发', '强烈', '，', '风大', '...', '\\n', '3', ' ', ' ', ' ', ' ', ' ', ' ', ' ', ' ', '不满', '一岁', '的', '永康', '是', '个', '饱经', '病痛', '折磨', '的', '孩子', '，', '２', '０', '１', '１', '年', '７', '月', '５', '日', '出生', '的', '他', '，', '患有', '先天性', '心脏病', '、', '疝气', '，', '一', '...', '\\n', '4', ' ', ' ', ' ', ' ', ' ', ' ', ' ', ' ', '就', '废弃', '茶叶', '被', '转手', '事件', '发声明', '\\ue40c', '本报讯', '（', '记者', '刘俊', '）', '\\u3000', '“', '我们', '也', '是', '受害者', '！', '”', '昨日', '，', '有', '媒体报道', '称', '康师傅', '...', '\\n', '5', ' ', ' ', ' ', ' ', ' ', ' ', ' ', ' ', '·', '奖励', '办法', '：', '率先', '提交', '的', '前', '１', '０', '０', '个', '创意', '项目', '，', '经', '评估', '，', '可', '优先', '资助', '实施', '。', '\\ue40c', '·', '咨询电话', '：', '０', '１', '０', '－', '６', '７', '...', '\\n', ' ', ' ', ' ', ' ', ' ', ' ', ' ', ' ', ' ', ' ', ' ', ' ', ' ', ' ', ' ', ' ', ' ', ' ', ' ', ' ', ' ', ' ', ' ', ' ', ' ', ' ', ' ', ' ', ' ', ' ', ' ', '...', ' ', ' ', ' ', ' ', ' ', ' ', ' ', ' ', ' ', ' ', ' ', ' ', ' ', ' ', ' ', ' ', ' ', ' ', ' ', ' ', ' ', ' ', ' ', ' ', '\\n', '49823', ' ', ' ', ' ', ' ', '美国', '休斯敦大学', '一项', '调查', '显示', '，', '电视', '遥控器', '和', '床', '前灯', '开关', '是', '酒店', '内', '沾染', '细菌', '最多', '的', '两种', '物品', '。', '\\ue40c', '依据', '这项', '...', '\\n', '49824', ' ', ' ', ' ', ' ', '本报讯', '记者', '\\u3000', '彭敏熠', '\\u3000', '意大利人', '没', '能', '延续', '每逢', '国内', '爆出', '足球', '丑闻', '，', '国家队', '就', '能', '在', '大赛', '中', '捧杯', '的', '神奇', '现象', '。', '...', '\\n', '49825', ' ', ' ', ' ', ' ', '本报', '７', '月', '２', '０', '日讯', '\\u3000', '（', '记者', '\\u3000', '李飞飞', '）', '今日', '，', '一揽子', '人事', '任命', '经', '太原市', '第十三届', '人大常委会', '第三次', '会议', '审', '...', '\\n', '49826', ' ', ' ', ' ', ' ', '根据', '规划', '，', '青岛', '蓝色', '硅谷', '“', '一带', '一区', '一园', '”', '，', '不仅', '能', '发挥', '青岛', '在', '海洋', '科技', '、', '产业', '等', '方面', '的', '优势', '，', '更', '承载', '着', '...', '\\n', '49827', ' ', ' ', ' ', ' ', '本报', '７', '月', '２', '６', '日讯', '（', '记者', '\\u3000', '陶小爱', '）', '近日', '，', '长沙市', '天心区', '同', '发', '小额贷款', '公司', '挂牌', '营业', '，', '这是', '该区', '成立', '的', '第', '...', '\\n', 'Name', ':', ' ', 'content', ',', ' ', 'Length', ':', ' ', '46189', ',', ' ', 'dtype', ':', ' ', 'object']\n"
     ]
    }
   ],
   "source": [
    "print(data)"
   ]
  },
  {
   "cell_type": "code",
   "execution_count": null,
   "metadata": {},
   "outputs": [],
   "source": []
  },
  {
   "cell_type": "code",
   "execution_count": 23,
   "metadata": {
    "scrolled": true
   },
   "outputs": [],
   "source": [
    "# 作业一：为 content 中的内容分词，请替换下行中的 ...\n",
    "df_orig['content'] = (df_orig['content']).apply(lambda x:\" ,\".join((jieba.lcut(str(x)))))#apply函数可以有多个参数，第一个是函数，后面是该函数所需用到的变量\n",
    "#lambda函数 定义了变量“：”后跟的是变量满足的表达式"
   ]
  },
  {
   "cell_type": "code",
   "execution_count": null,
   "metadata": {},
   "outputs": [],
   "source": []
  },
  {
   "cell_type": "code",
   "execution_count": null,
   "metadata": {},
   "outputs": [],
   "source": []
  },
  {
   "cell_type": "code",
   "execution_count": null,
   "metadata": {},
   "outputs": [],
   "source": []
  },
  {
   "cell_type": "code",
   "execution_count": null,
   "metadata": {},
   "outputs": [],
   "source": []
  },
  {
   "cell_type": "code",
   "execution_count": null,
   "metadata": {},
   "outputs": [],
   "source": []
  },
  {
   "cell_type": "code",
   "execution_count": 22,
   "metadata": {
    "scrolled": false
   },
   "outputs": [
    {
     "name": "stdout",
     "output_type": "stream",
     "text": [
      "0        南 都 讯 　 记者 刘凡 　 周昌 和 　 任笑 一 　 继 推出 日票 后 ， 深圳 今...\n",
      "2        同心县 地处 宁夏 中部 干旱 带 的 核心区 ， 　 冬寒 长 ， 春暖迟 ， 夏热 短 ...\n",
      "3        不满 一岁 的 永康 是 个 饱经 病痛 折磨 的 孩子 ， ２ ０ １ １ 年 ７ 月 ５...\n",
      "4        就 废弃 茶叶 被 转手 事件 发声明  本报讯 （ 记者 刘俊 ） 　 “ 我们 也 是...\n",
      "5        · 奖励 办法 ： 率先 提交 的 前 １ ０ ０ 个 创意 项目 ， 经 评估 ， 可 优...\n",
      "                               ...                        \n",
      "49823    美国 休斯敦大学 一项 调查 显示 ， 电视 遥控器 和 床 前灯 开关 是 酒店 内 沾染...\n",
      "49824    本报讯 记者 　 彭敏熠 　 意大利人 没 能 延续 每逢 国内 爆出 足球 丑闻 ， 国家...\n",
      "49825    本报 ７ 月 ２ ０ 日讯 　 （ 记者 　 李飞飞 ） 今日 ， 一揽子 人事 任命 经 ...\n",
      "49826    根据 规划 ， 青岛 蓝色 硅谷 “ 一带 一区 一园 ” ， 不仅 能 发挥 青岛 在 海...\n",
      "49827    本报 ７ 月 ２ ６ 日讯 （ 记者 　 陶小爱 ） 近日 ， 长沙市 天心区 同 发 小额...\n",
      "Name: content, Length: 46189, dtype: object\n"
     ]
    }
   ],
   "source": [
    "print((df_orig['content']))"
   ]
  },
  {
   "cell_type": "code",
   "execution_count": null,
   "metadata": {},
   "outputs": [],
   "source": []
  },
  {
   "cell_type": "code",
   "execution_count": null,
   "metadata": {},
   "outputs": [],
   "source": []
  },
  {
   "cell_type": "code",
   "execution_count": null,
   "metadata": {},
   "outputs": [],
   "source": []
  },
  {
   "cell_type": "code",
   "execution_count": null,
   "metadata": {},
   "outputs": [],
   "source": []
  },
  {
   "cell_type": "code",
   "execution_count": 12,
   "metadata": {
    "scrolled": true
   },
   "outputs": [
    {
     "data": {
      "text/html": [
       "<div>\n",
       "<style scoped>\n",
       "    .dataframe tbody tr th:only-of-type {\n",
       "        vertical-align: middle;\n",
       "    }\n",
       "\n",
       "    .dataframe tbody tr th {\n",
       "        vertical-align: top;\n",
       "    }\n",
       "\n",
       "    .dataframe thead th {\n",
       "        text-align: right;\n",
       "    }\n",
       "</style>\n",
       "<table border=\"1\" class=\"dataframe\">\n",
       "  <thead>\n",
       "    <tr style=\"text-align: right;\">\n",
       "      <th></th>\n",
       "      <th>Doc_Id</th>\n",
       "      <th>content</th>\n",
       "    </tr>\n",
       "  </thead>\n",
       "  <tbody>\n",
       "    <tr>\n",
       "      <td>0</td>\n",
       "      <td>0</td>\n",
       "      <td>南 都 讯 　 记者 刘凡 　 周昌 和 　 任笑 一 　 继 推出 日票 后 ， 深圳 今...</td>\n",
       "    </tr>\n",
       "    <tr>\n",
       "      <td>2</td>\n",
       "      <td>1</td>\n",
       "      <td>同心县 地处 宁夏 中部 干旱 带 的 核心区 ， 　 冬寒 长 ， 春暖迟 ， 夏热 短 ...</td>\n",
       "    </tr>\n",
       "    <tr>\n",
       "      <td>3</td>\n",
       "      <td>2</td>\n",
       "      <td>不满 一岁 的 永康 是 个 饱经 病痛 折磨 的 孩子 ， ２ ０ １ １ 年 ７ 月 ５...</td>\n",
       "    </tr>\n",
       "    <tr>\n",
       "      <td>4</td>\n",
       "      <td>3</td>\n",
       "      <td>就 废弃 茶叶 被 转手 事件 发声明  本报讯 （ 记者 刘俊 ） 　 “ 我们 也 是...</td>\n",
       "    </tr>\n",
       "    <tr>\n",
       "      <td>5</td>\n",
       "      <td>4</td>\n",
       "      <td>· 奖励 办法 ： 率先 提交 的 前 １ ０ ０ 个 创意 项目 ， 经 评估 ， 可 优...</td>\n",
       "    </tr>\n",
       "  </tbody>\n",
       "</table>\n",
       "</div>"
      ],
      "text/plain": [
       "   Doc_Id                                            content\n",
       "0       0  南 都 讯 　 记者 刘凡 　 周昌 和 　 任笑 一 　 继 推出 日票 后 ， 深圳 今...\n",
       "2       1  同心县 地处 宁夏 中部 干旱 带 的 核心区 ， 　 冬寒 长 ， 春暖迟 ， 夏热 短 ...\n",
       "3       2  不满 一岁 的 永康 是 个 饱经 病痛 折磨 的 孩子 ， ２ ０ １ １ 年 ７ 月 ５...\n",
       "4       3  就 废弃 茶叶 被 转手 事件 发声明  本报讯 （ 记者 刘俊 ） 　 “ 我们 也 是...\n",
       "5       4  · 奖励 办法 ： 率先 提交 的 前 １ ０ ０ 个 创意 项目 ， 经 评估 ， 可 优..."
      ]
     },
     "execution_count": 12,
     "metadata": {},
     "output_type": "execute_result"
    }
   ],
   "source": [
    "# Create a doc id for merging the results back to the original file \n",
    "df_orig.insert(0, 'Doc_Id', range(0, 0 + len(df_orig)))#insert不是只有两个参数吗\n",
    "df_orig.head()"
   ]
  },
  {
   "cell_type": "code",
   "execution_count": null,
   "metadata": {},
   "outputs": [],
   "source": []
  },
  {
   "cell_type": "code",
   "execution_count": 13,
   "metadata": {},
   "outputs": [],
   "source": [
    "# save for use later\n",
    "df_orig.to_pickle('df_orig.pkl')"
   ]
  },
  {
   "cell_type": "code",
   "execution_count": null,
   "metadata": {},
   "outputs": [],
   "source": []
  },
  {
   "cell_type": "code",
   "execution_count": 14,
   "metadata": {},
   "outputs": [],
   "source": [
    "df = df_orig.loc[:,['content','Doc_Id']]"
   ]
  },
  {
   "cell_type": "code",
   "execution_count": null,
   "metadata": {},
   "outputs": [],
   "source": []
  },
  {
   "cell_type": "code",
   "execution_count": 15,
   "metadata": {},
   "outputs": [
    {
     "name": "stdout",
     "output_type": "stream",
     "text": [
      "0        南 都 讯 　 记者 刘凡 　 周昌 和 　 任笑 一 　 继 推出 日票 后 ， 深圳 今...\n",
      "2        同心县 地处 宁夏 中部 干旱 带 的 核心区 ， 　 冬寒 长 ， 春暖迟 ， 夏热 短 ...\n",
      "3        不满 一岁 的 永康 是 个 饱经 病痛 折磨 的 孩子 ， ２ ０ １ １ 年 ７ 月 ５...\n",
      "4        就 废弃 茶叶 被 转手 事件 发声明  本报讯 （ 记者 刘俊 ） 　 “ 我们 也 是...\n",
      "5        · 奖励 办法 ： 率先 提交 的 前 １ ０ ０ 个 创意 项目 ， 经 评估 ， 可 优...\n",
      "                               ...                        \n",
      "49823    美国 休斯敦大学 一项 调查 显示 ， 电视 遥控器 和 床 前灯 开关 是 酒店 内 沾染...\n",
      "49824    本报讯 记者 　 彭敏熠 　 意大利人 没 能 延续 每逢 国内 爆出 足球 丑闻 ， 国家...\n",
      "49825    本报 ７ 月 ２ ０ 日讯 　 （ 记者 　 李飞飞 ） 今日 ， 一揽子 人事 任命 经 ...\n",
      "49826    根据 规划 ， 青岛 蓝色 硅谷 “ 一带 一区 一园 ” ， 不仅 能 发挥 青岛 在 海...\n",
      "49827    本报 ７ 月 ２ ６ 日讯 （ 记者 　 陶小爱 ） 近日 ， 长沙市 天心区 同 发 小额...\n",
      "Name: content, Length: 46189, dtype: object\n"
     ]
    }
   ],
   "source": [
    "print(df['content'])"
   ]
  },
  {
   "cell_type": "code",
   "execution_count": null,
   "metadata": {},
   "outputs": [],
   "source": []
  },
  {
   "cell_type": "code",
   "execution_count": null,
   "metadata": {},
   "outputs": [],
   "source": []
  },
  {
   "cell_type": "code",
   "execution_count": 16,
   "metadata": {
    "scrolled": true
   },
   "outputs": [
    {
     "data": {
      "text/html": [
       "<div>\n",
       "<style scoped>\n",
       "    .dataframe tbody tr th:only-of-type {\n",
       "        vertical-align: middle;\n",
       "    }\n",
       "\n",
       "    .dataframe tbody tr th {\n",
       "        vertical-align: top;\n",
       "    }\n",
       "\n",
       "    .dataframe thead th {\n",
       "        text-align: right;\n",
       "    }\n",
       "</style>\n",
       "<table border=\"1\" class=\"dataframe\">\n",
       "  <thead>\n",
       "    <tr style=\"text-align: right;\">\n",
       "      <th></th>\n",
       "      <th>content</th>\n",
       "      <th>Doc_Id</th>\n",
       "      <th>word_count</th>\n",
       "    </tr>\n",
       "  </thead>\n",
       "  <tbody>\n",
       "    <tr>\n",
       "      <td>0</td>\n",
       "      <td>南 都 讯 　 记者 刘凡 　 周昌 和 　 任笑 一 　 继 推出 日票 后 ， 深圳 今...</td>\n",
       "      <td>0</td>\n",
       "      <td>1091</td>\n",
       "    </tr>\n",
       "    <tr>\n",
       "      <td>2</td>\n",
       "      <td>同心县 地处 宁夏 中部 干旱 带 的 核心区 ， 　 冬寒 长 ， 春暖迟 ， 夏热 短 ...</td>\n",
       "      <td>1</td>\n",
       "      <td>249</td>\n",
       "    </tr>\n",
       "    <tr>\n",
       "      <td>3</td>\n",
       "      <td>不满 一岁 的 永康 是 个 饱经 病痛 折磨 的 孩子 ， ２ ０ １ １ 年 ７ 月 ５...</td>\n",
       "      <td>2</td>\n",
       "      <td>365</td>\n",
       "    </tr>\n",
       "    <tr>\n",
       "      <td>4</td>\n",
       "      <td>就 废弃 茶叶 被 转手 事件 发声明  本报讯 （ 记者 刘俊 ） 　 “ 我们 也 是...</td>\n",
       "      <td>3</td>\n",
       "      <td>1200</td>\n",
       "    </tr>\n",
       "    <tr>\n",
       "      <td>5</td>\n",
       "      <td>· 奖励 办法 ： 率先 提交 的 前 １ ０ ０ 个 创意 项目 ， 经 评估 ， 可 优...</td>\n",
       "      <td>4</td>\n",
       "      <td>177</td>\n",
       "    </tr>\n",
       "  </tbody>\n",
       "</table>\n",
       "</div>"
      ],
      "text/plain": [
       "                                             content  Doc_Id  word_count\n",
       "0  南 都 讯 　 记者 刘凡 　 周昌 和 　 任笑 一 　 继 推出 日票 后 ， 深圳 今...       0        1091\n",
       "2  同心县 地处 宁夏 中部 干旱 带 的 核心区 ， 　 冬寒 长 ， 春暖迟 ， 夏热 短 ...       1         249\n",
       "3  不满 一岁 的 永康 是 个 饱经 病痛 折磨 的 孩子 ， ２ ０ １ １ 年 ７ 月 ５...       2         365\n",
       "4  就 废弃 茶叶 被 转手 事件 发声明  本报讯 （ 记者 刘俊 ） 　 “ 我们 也 是...       3        1200\n",
       "5  · 奖励 办法 ： 率先 提交 的 前 １ ０ ０ 个 创意 项目 ， 经 评估 ， 可 优...       4         177"
      ]
     },
     "execution_count": 16,
     "metadata": {},
     "output_type": "execute_result"
    }
   ],
   "source": [
    "# Get the word count for each document\n",
    "df['word_count'] = df['content'].apply(lambda x: len(str(x)))#新建一个列\n",
    "df.head()"
   ]
  },
  {
   "cell_type": "code",
   "execution_count": null,
   "metadata": {},
   "outputs": [],
   "source": []
  },
  {
   "cell_type": "code",
   "execution_count": null,
   "metadata": {},
   "outputs": [],
   "source": []
  },
  {
   "cell_type": "code",
   "execution_count": null,
   "metadata": {},
   "outputs": [],
   "source": []
  },
  {
   "cell_type": "code",
   "execution_count": 51,
   "metadata": {
    "scrolled": false
   },
   "outputs": [
    {
     "name": "stdout",
     "output_type": "stream",
     "text": [
      "0        1091\n",
      "2         249\n",
      "3         365\n",
      "4        1200\n",
      "5         177\n",
      "         ... \n",
      "49823     257\n",
      "49824     674\n",
      "49825     266\n",
      "49826    2042\n",
      "49827     480\n",
      "Name: word_count, Length: 46189, dtype: int64\n"
     ]
    }
   ],
   "source": [
    "print(df['word_count'])"
   ]
  },
  {
   "cell_type": "code",
   "execution_count": null,
   "metadata": {},
   "outputs": [],
   "source": []
  },
  {
   "cell_type": "code",
   "execution_count": null,
   "metadata": {},
   "outputs": [],
   "source": []
  },
  {
   "cell_type": "code",
   "execution_count": 52,
   "metadata": {},
   "outputs": [
    {
     "data": {
      "text/plain": [
       "count    46189.000000\n",
       "mean       768.368140\n",
       "std        671.239559\n",
       "min         12.000000\n",
       "25%        266.000000\n",
       "50%        553.000000\n",
       "75%       1082.000000\n",
       "max       3572.000000\n",
       "Name: word_count, dtype: float64"
      ]
     },
     "execution_count": 52,
     "metadata": {},
     "output_type": "execute_result"
    }
   ],
   "source": [
    "# Summary statistics\n",
    "df.word_count.describe()"
   ]
  },
  {
   "cell_type": "code",
   "execution_count": null,
   "metadata": {},
   "outputs": [],
   "source": []
  },
  {
   "cell_type": "code",
   "execution_count": null,
   "metadata": {},
   "outputs": [],
   "source": []
  },
  {
   "cell_type": "code",
   "execution_count": null,
   "metadata": {},
   "outputs": [],
   "source": []
  },
  {
   "cell_type": "code",
   "execution_count": 19,
   "metadata": {},
   "outputs": [],
   "source": [
    "# just to get a sizable data to work with in this tutorial\n",
    "df1= df[(df['word_count']>=293)&(df['word_count']<=412)]"
   ]
  },
  {
   "cell_type": "code",
   "execution_count": null,
   "metadata": {},
   "outputs": [],
   "source": []
  },
  {
   "cell_type": "code",
   "execution_count": null,
   "metadata": {},
   "outputs": [],
   "source": []
  },
  {
   "cell_type": "code",
   "execution_count": null,
   "metadata": {},
   "outputs": [],
   "source": []
  },
  {
   "cell_type": "code",
   "execution_count": 54,
   "metadata": {
    "scrolled": false
   },
   "outputs": [
    {
     "data": {
      "text/plain": [
       "(5109, 3)"
      ]
     },
     "execution_count": 54,
     "metadata": {},
     "output_type": "execute_result"
    }
   ],
   "source": [
    "df1.shape"
   ]
  },
  {
   "cell_type": "code",
   "execution_count": null,
   "metadata": {},
   "outputs": [],
   "source": []
  },
  {
   "cell_type": "code",
   "execution_count": 18,
   "metadata": {
    "scrolled": false
   },
   "outputs": [
    {
     "ename": "NameError",
     "evalue": "name 'df1' is not defined",
     "output_type": "error",
     "traceback": [
      "\u001b[1;31m---------------------------------------------------------------------------\u001b[0m",
      "\u001b[1;31mNameError\u001b[0m                                 Traceback (most recent call last)",
      "\u001b[1;32m<ipython-input-18-eda2b5cc1a42>\u001b[0m in \u001b[0;36m<module>\u001b[1;34m\u001b[0m\n\u001b[1;32m----> 1\u001b[1;33m \u001b[0mdf1\u001b[0m\u001b[1;33m.\u001b[0m\u001b[0mhead\u001b[0m\u001b[1;33m(\u001b[0m\u001b[1;33m)\u001b[0m\u001b[1;33m\u001b[0m\u001b[1;33m\u001b[0m\u001b[0m\n\u001b[0m",
      "\u001b[1;31mNameError\u001b[0m: name 'df1' is not defined"
     ]
    }
   ],
   "source": [
    "df1.head()"
   ]
  },
  {
   "cell_type": "code",
   "execution_count": null,
   "metadata": {},
   "outputs": [],
   "source": []
  },
  {
   "cell_type": "code",
   "execution_count": null,
   "metadata": {},
   "outputs": [],
   "source": []
  },
  {
   "cell_type": "code",
   "execution_count": null,
   "metadata": {},
   "outputs": [],
   "source": []
  },
  {
   "cell_type": "code",
   "execution_count": null,
   "metadata": {},
   "outputs": [],
   "source": []
  },
  {
   "cell_type": "code",
   "execution_count": 20,
   "metadata": {
    "scrolled": true
   },
   "outputs": [
    {
     "data": {
      "text/html": [
       "<div>\n",
       "<style scoped>\n",
       "    .dataframe tbody tr th:only-of-type {\n",
       "        vertical-align: middle;\n",
       "    }\n",
       "\n",
       "    .dataframe tbody tr th {\n",
       "        vertical-align: top;\n",
       "    }\n",
       "\n",
       "    .dataframe thead th {\n",
       "        text-align: right;\n",
       "    }\n",
       "</style>\n",
       "<table border=\"1\" class=\"dataframe\">\n",
       "  <thead>\n",
       "    <tr style=\"text-align: right;\">\n",
       "      <th></th>\n",
       "      <th>content</th>\n",
       "      <th>Doc_Id</th>\n",
       "      <th>word_count</th>\n",
       "    </tr>\n",
       "  </thead>\n",
       "  <tbody>\n",
       "    <tr>\n",
       "      <td>3</td>\n",
       "      <td>不满 一岁 的 永康 是 个 饱经 病痛 折磨 的 孩子 ， ２ ０ １ １ 年 ７ 月 ５...</td>\n",
       "      <td>2</td>\n",
       "      <td>365</td>\n",
       "    </tr>\n",
       "    <tr>\n",
       "      <td>9</td>\n",
       "      <td>２ ０ ０ ９ 年 ８ 月 ， 《 ２ ０ ０ ９ 中国 慈善 导航 行动 》 第一季 正式...</td>\n",
       "      <td>6</td>\n",
       "      <td>295</td>\n",
       "    </tr>\n",
       "    <tr>\n",
       "      <td>29</td>\n",
       "      <td>２ ０ ０ ８ 年 ８ 月 的 一个 清晨 ， Ａ 市 女子 某 医院 大院 的 水淹 地里...</td>\n",
       "      <td>23</td>\n",
       "      <td>390</td>\n",
       "    </tr>\n",
       "    <tr>\n",
       "      <td>46</td>\n",
       "      <td>瑞丽 阳光 基金 成立 于 ２ ０ ０ ８ 年 １ ２ 月 １ ２ 日 ， 是 《 瑞丽 》...</td>\n",
       "      <td>38</td>\n",
       "      <td>306</td>\n",
       "    </tr>\n",
       "    <tr>\n",
       "      <td>57</td>\n",
       "      <td>个人信息  姓名 ＊ 　 ：  性别 ＊ 　 ：  年龄 ＊ 　 ：  教育 程度 ＊ 　 ...</td>\n",
       "      <td>49</td>\n",
       "      <td>382</td>\n",
       "    </tr>\n",
       "  </tbody>\n",
       "</table>\n",
       "</div>"
      ],
      "text/plain": [
       "                                              content  Doc_Id  word_count\n",
       "3   不满 一岁 的 永康 是 个 饱经 病痛 折磨 的 孩子 ， ２ ０ １ １ 年 ７ 月 ５...       2         365\n",
       "9   ２ ０ ０ ９ 年 ８ 月 ， 《 ２ ０ ０ ９ 中国 慈善 导航 行动 》 第一季 正式...       6         295\n",
       "29  ２ ０ ０ ８ 年 ８ 月 的 一个 清晨 ， Ａ 市 女子 某 医院 大院 的 水淹 地里...      23         390\n",
       "46  瑞丽 阳光 基金 成立 于 ２ ０ ０ ８ 年 １ ２ 月 １ ２ 日 ， 是 《 瑞丽 》...      38         306\n",
       "57  个人信息  姓名 ＊ 　 ：  性别 ＊ 　 ：  年龄 ＊ 　 ：  教育 程度 ＊ 　 ...      49         382"
      ]
     },
     "execution_count": 20,
     "metadata": {},
     "output_type": "execute_result"
    }
   ],
   "source": [
    "# Removing unwanted characters\n",
    "import re\n",
    "df1['content'] = df1['content'].str.replace('', '')\n",
    "df1.head()"
   ]
  },
  {
   "cell_type": "code",
   "execution_count": null,
   "metadata": {},
   "outputs": [],
   "source": []
  },
  {
   "cell_type": "code",
   "execution_count": null,
   "metadata": {},
   "outputs": [],
   "source": []
  },
  {
   "cell_type": "code",
   "execution_count": null,
   "metadata": {},
   "outputs": [],
   "source": []
  },
  {
   "cell_type": "code",
   "execution_count": 21,
   "metadata": {},
   "outputs": [
    {
     "data": {
      "text/plain": [
       "，    43986\n",
       "的    22720\n",
       "。    20707\n",
       "１    11234\n",
       "０    10377\n",
       "２     9828\n",
       "、     8628\n",
       "在     7080\n",
       "７     4914\n",
       "６     4863\n",
       "”     4850\n",
       "“     4848\n",
       "月     4688\n",
       "３     4626\n",
       "了     4595\n",
       "５     4470\n",
       "日     4371\n",
       "和     3998\n",
       "８     3324\n",
       "４     3310\n",
       "dtype: int64"
      ]
     },
     "execution_count": 21,
     "metadata": {},
     "output_type": "execute_result"
    }
   ],
   "source": [
    "# Top 20 most frequent words\n",
    "freq = pd.Series(' '.join(df1['content']).split()).value_counts()[:20]\n",
    "freq"
   ]
  },
  {
   "cell_type": "code",
   "execution_count": null,
   "metadata": {},
   "outputs": [],
   "source": []
  },
  {
   "cell_type": "code",
   "execution_count": null,
   "metadata": {},
   "outputs": [],
   "source": []
  },
  {
   "cell_type": "code",
   "execution_count": null,
   "metadata": {},
   "outputs": [],
   "source": []
  },
  {
   "cell_type": "code",
   "execution_count": 58,
   "metadata": {},
   "outputs": [],
   "source": [
    "def nouns(text):\n",
    "    is_noun = lambda pos: pos[0] == 'n'\n",
    "    pos_tagged = pseg.lcut(text.replace(' ', ''))\n",
    "    all_nouns = [word for (word, pos) in pos_tagged if is_noun(pos)]\n",
    "    return ' '.join(all_nouns)"
   ]
  },
  {
   "cell_type": "code",
   "execution_count": null,
   "metadata": {},
   "outputs": [],
   "source": []
  },
  {
   "cell_type": "code",
   "execution_count": null,
   "metadata": {},
   "outputs": [],
   "source": []
  },
  {
   "cell_type": "code",
   "execution_count": 59,
   "metadata": {},
   "outputs": [
    {
     "data": {
      "text/html": [
       "<div>\n",
       "<style scoped>\n",
       "    .dataframe tbody tr th:only-of-type {\n",
       "        vertical-align: middle;\n",
       "    }\n",
       "\n",
       "    .dataframe tbody tr th {\n",
       "        vertical-align: top;\n",
       "    }\n",
       "\n",
       "    .dataframe thead th {\n",
       "        text-align: right;\n",
       "    }\n",
       "</style>\n",
       "<table border=\"1\" class=\"dataframe\">\n",
       "  <thead>\n",
       "    <tr style=\"text-align: right;\">\n",
       "      <th></th>\n",
       "      <th>content</th>\n",
       "      <th>Doc_Id</th>\n",
       "      <th>word_count</th>\n",
       "      <th>data_nouns</th>\n",
       "    </tr>\n",
       "  </thead>\n",
       "  <tbody>\n",
       "    <tr>\n",
       "      <td>3</td>\n",
       "      <td>不满，一岁，的，永康，是，个，饱经，病痛，折磨，的，孩子，，，２，０，１，１，年，７，月，５，日，出生，的，他，，，患有，先天性，心脏病，、，疝气，，，一，出生，便，被遗弃，。，２，０，１，２，年，１，月，８，日，，，才，５，个，月，大，的，永康，被，发现，呼吸困难，，，随后，送往，医院，进行，抢救，治疗，，，病情，稳定，后于，１，月，２，８，日，出院，。，，２，０，１，２，年，２，月，１，３，号，，，永康，在，思源，焦点，公益，基金，的，帮助，下，在，医院，接受，手术，治疗，，，术后，仅，８，天，，，永康，突发，右侧，腹股沟，斜，疝，嵌顿，及，肠梗阻，，，又，再次，进行，抢救，治疗，，，术后，进，重症，监护室，。，３，月，７，日，，，几经，病痛，折磨，的，永康，终于，康复，出院，，，目前，他，的，病情，已经，稳定，。</td>\n",
       "      <td>2</td>\n",
       "      <td>365</td>\n",
       "      <td>永康 病痛 孩子 先天性 心脏病 疝气 被遗弃 永康 医院 病情 出院 永康 思源 焦点 公益 基金 医院 手术 永康 腹股沟 肠梗阻 重症 监护室 病痛 永康 康复 出院 病情</td>\n",
       "    </tr>\n",
       "    <tr>\n",
       "      <td>9</td>\n",
       "      <td>２，０，０，９，年，８，月，，，《，２，０，０，９，中国，慈善，导航，行动，》，第一季，正式，启动，，，此档，由，Ｃ，Ｃ，Ｔ，Ｖ，－，１，２，《，大家，看法，》，精心制作，的，节目，将，于，２，０，０，９，年，８，月，１，７，日至，８，月，２，３，日，每晚，８，点整，在，中央电视台，社会，与，法，频道，Ｃ，Ｃ，Ｔ，Ｖ，－，１，２，正式，播出，。，节目，将，从，１，０，０，多个，“，５，．，１，２，灾后，重建，资助，项目，”，中，挑选出，１，８，个，优秀，服务项目，参与，电视，评估，及，展示，，，１，８，个，项目，中，究竟，哪些项目，将，得到，千万，基金，的，支持，…，　，［，详细，］</td>\n",
       "      <td>6</td>\n",
       "      <td>295</td>\n",
       "      <td>中国 慈善 档 大家 节目 中央电视台 社会 频道 节目 灾 资助 项目 服务项目 电视 项目 哪些项目 基金</td>\n",
       "    </tr>\n",
       "    <tr>\n",
       "      <td>29</td>\n",
       "      <td>２，０，０，８，年，８，月，的，一个，清晨，，，Ａ，市，女子，某，医院，大院，的，水淹，地里，，，一个，熟睡，的，女婴，被，人，发现，。，出生，仅，两天，的，她，被，父母，遗弃，，，因为，她，患有，先天性，法式，四联，症，，，心脏，动脉，导管，未闭，，，大动脉，异常，。，，随后，女婴，被，福利院，收养，坚强，的，她，安静，地，等待，着，希望，的，出现，。，，２，０，１，２，年，１，月，，，萍萍，来到，北京，进行，治疗，。，２，０，１，２，年，３，月，２，３，日，，，在，思源，焦点，公益，基金，的，资助，下，，，萍萍，在，医院，进行，了，近，１，０，小时，的，高强度，手术，。，，虽然，手术，是，成功，的，，，但，术后，萍萍，并，没有，完全，摆脱，危险，，，她，的，心脏，只能，借助，体外循环，才能，跳动，。，目前，，，坚强，的，萍萍，仍，在，重症，病房，接受，监护，。</td>\n",
       "      <td>23</td>\n",
       "      <td>390</td>\n",
       "      <td>市 女子 医院 大院 水淹 女婴 人 父母 先天性 法式 四联 心脏 动脉 导管 大动脉 女婴 福利院 安静 萍 萍 北京 思源 焦点 公益 基金 资助 萍 萍 医院 小时 高强度 手术 手术 萍 萍 心脏 体外循环 萍 萍 重症 病房</td>\n",
       "    </tr>\n",
       "    <tr>\n",
       "      <td>46</td>\n",
       "      <td>瑞丽，阳光，基金，成立，于，２，０，０，８，年，１，２，月，１，２，日，，，是，《，瑞丽，》，杂志社，与，中国扶贫基金会，合作，成立，的，专项基金，，，专注，于，服务，中国，弱势，儿童，群体，。，，瑞丽，阳光，基金，成立，两年，以来，，，已，陆续，在，河北，、，青海，、，四川，等，省，六个，国家级，贫困地区，启动，了，系列，关爱，儿童，的，援助，计划，。，，《，瑞丽，》，杂志社，作为，一个，负责，任，的，企业，公民，，，将，有效，利用，“，瑞丽，阳光，基金，”，和，媒体，品牌，影响力，，，为，改善，中国，弱势，儿童，的，生存环境，和，推动，社会，慈善，价值观，的，形成，尽，一份，力量，。，［，详细，］</td>\n",
       "      <td>38</td>\n",
       "      <td>306</td>\n",
       "      <td>瑞丽 阳光 基金 瑞丽 杂志社 中国扶贫基金会 专项基金 中国 弱势 儿童 群体 瑞丽 阳光 基金 河北 青海 四川 省 贫困地区 儿童 计划 瑞丽 杂志社 企业 公民 利用 瑞丽 阳光 基金 媒体 品牌 影响力 中国 弱势 儿童 社会 慈善 价值观 力量</td>\n",
       "    </tr>\n",
       "    <tr>\n",
       "      <td>57</td>\n",
       "      <td>个人信息，，姓名，＊，　，：，，性别，＊，　，：，，年龄，＊，　，：，，教育，程度，＊，　，：，，职业，＊，　，：，，手机，＊，　，：，，电子邮箱，＊，　，：，，Ｑ，Ｑ，／，Ｍ，Ｓ，Ｎ，号，：，通信地址，＊，　，：，，邮编，＊，　，：，，特长，或，技能，＊，　，：，，参加，其他，公益，组织，或，活动，情况，　，：，，愿意，参加，的，志愿，服务，（，请画，勾，，，可多选，），，宣传，发动，工作，　，学校，考察，与，调研，活动，，鞋子，的，发放，工作，　，有关，的，后续，工作，，志愿者，招募，和，管理工作，　，其他，，志愿，服务，时间，选择，（，请画，勾，，，可多选，），，工作日，的，上午，　，工作日，的，下午，，工作日，的，晚上，　，周六，／，日，的，上午，，周六，／，日，的，下午，　，周六，／，日，的，晚上，，其它</td>\n",
       "      <td>49</td>\n",
       "      <td>382</td>\n",
       "      <td>个人信息 姓名 性别 年龄 程度 职业 手机 电子邮箱 通信地址 邮编 特长 技能 公益 情况 志愿 学校 鞋子 志愿者 管理工作 志愿 时间 工作日 工作日 工作日</td>\n",
       "    </tr>\n",
       "  </tbody>\n",
       "</table>\n",
       "</div>"
      ],
      "text/plain": [
       "                                                                                                                                                                                                                                                                                                                                                                                                content  \\\n",
       "3                          不满，一岁，的，永康，是，个，饱经，病痛，折磨，的，孩子，，，２，０，１，１，年，７，月，５，日，出生，的，他，，，患有，先天性，心脏病，、，疝气，，，一，出生，便，被遗弃，。，２，０，１，２，年，１，月，８，日，，，才，５，个，月，大，的，永康，被，发现，呼吸困难，，，随后，送往，医院，进行，抢救，治疗，，，病情，稳定，后于，１，月，２，８，日，出院，。，，２，０，１，２，年，２，月，１，３，号，，，永康，在，思源，焦点，公益，基金，的，帮助，下，在，医院，接受，手术，治疗，，，术后，仅，８，天，，，永康，突发，右侧，腹股沟，斜，疝，嵌顿，及，肠梗阻，，，又，再次，进行，抢救，治疗，，，术后，进，重症，监护室，。，３，月，７，日，，，几经，病痛，折磨，的，永康，终于，康复，出院，，，目前，他，的，病情，已经，稳定，。   \n",
       "9                                                                                               ２，０，０，９，年，８，月，，，《，２，０，０，９，中国，慈善，导航，行动，》，第一季，正式，启动，，，此档，由，Ｃ，Ｃ，Ｔ，Ｖ，－，１，２，《，大家，看法，》，精心制作，的，节目，将，于，２，０，０，９，年，８，月，１，７，日至，８，月，２，３，日，每晚，８，点整，在，中央电视台，社会，与，法，频道，Ｃ，Ｃ，Ｔ，Ｖ，－，１，２，正式，播出，。，节目，将，从，１，０，０，多个，“，５，．，１，２，灾后，重建，资助，项目，”，中，挑选出，１，８，个，优秀，服务项目，参与，电视，评估，及，展示，，，１，８，个，项目，中，究竟，哪些项目，将，得到，千万，基金，的，支持，…，　，［，详细，］   \n",
       "29  ２，０，０，８，年，８，月，的，一个，清晨，，，Ａ，市，女子，某，医院，大院，的，水淹，地里，，，一个，熟睡，的，女婴，被，人，发现，。，出生，仅，两天，的，她，被，父母，遗弃，，，因为，她，患有，先天性，法式，四联，症，，，心脏，动脉，导管，未闭，，，大动脉，异常，。，，随后，女婴，被，福利院，收养，坚强，的，她，安静，地，等待，着，希望，的，出现，。，，２，０，１，２，年，１，月，，，萍萍，来到，北京，进行，治疗，。，２，０，１，２，年，３，月，２，３，日，，，在，思源，焦点，公益，基金，的，资助，下，，，萍萍，在，医院，进行，了，近，１，０，小时，的，高强度，手术，。，，虽然，手术，是，成功，的，，，但，术后，萍萍，并，没有，完全，摆脱，危险，，，她，的，心脏，只能，借助，体外循环，才能，跳动，。，目前，，，坚强，的，萍萍，仍，在，重症，病房，接受，监护，。   \n",
       "46                                                                                     瑞丽，阳光，基金，成立，于，２，０，０，８，年，１，２，月，１，２，日，，，是，《，瑞丽，》，杂志社，与，中国扶贫基金会，合作，成立，的，专项基金，，，专注，于，服务，中国，弱势，儿童，群体，。，，瑞丽，阳光，基金，成立，两年，以来，，，已，陆续，在，河北，、，青海，、，四川，等，省，六个，国家级，贫困地区，启动，了，系列，关爱，儿童，的，援助，计划，。，，《，瑞丽，》，杂志社，作为，一个，负责，任，的，企业，公民，，，将，有效，利用，“，瑞丽，阳光，基金，”，和，媒体，品牌，影响力，，，为，改善，中国，弱势，儿童，的，生存环境，和，推动，社会，慈善，价值观，的，形成，尽，一份，力量，。，［，详细，］   \n",
       "57                           个人信息，，姓名，＊，　，：，，性别，＊，　，：，，年龄，＊，　，：，，教育，程度，＊，　，：，，职业，＊，　，：，，手机，＊，　，：，，电子邮箱，＊，　，：，，Ｑ，Ｑ，／，Ｍ，Ｓ，Ｎ，号，：，通信地址，＊，　，：，，邮编，＊，　，：，，特长，或，技能，＊，　，：，，参加，其他，公益，组织，或，活动，情况，　，：，，愿意，参加，的，志愿，服务，（，请画，勾，，，可多选，），，宣传，发动，工作，　，学校，考察，与，调研，活动，，鞋子，的，发放，工作，　，有关，的，后续，工作，，志愿者，招募，和，管理工作，　，其他，，志愿，服务，时间，选择，（，请画，勾，，，可多选，），，工作日，的，上午，　，工作日，的，下午，，工作日，的，晚上，　，周六，／，日，的，上午，，周六，／，日，的，下午，　，周六，／，日，的，晚上，，其它   \n",
       "\n",
       "    Doc_Id  word_count  \\\n",
       "3        2         365   \n",
       "9        6         295   \n",
       "29      23         390   \n",
       "46      38         306   \n",
       "57      49         382   \n",
       "\n",
       "                                                                                                                          data_nouns  \n",
       "3                                          永康 病痛 孩子 先天性 心脏病 疝气 被遗弃 永康 医院 病情 出院 永康 思源 焦点 公益 基金 医院 手术 永康 腹股沟 肠梗阻 重症 监护室 病痛 永康 康复 出院 病情  \n",
       "9                                                                            中国 慈善 档 大家 节目 中央电视台 社会 频道 节目 灾 资助 项目 服务项目 电视 项目 哪些项目 基金  \n",
       "29            市 女子 医院 大院 水淹 女婴 人 父母 先天性 法式 四联 心脏 动脉 导管 大动脉 女婴 福利院 安静 萍 萍 北京 思源 焦点 公益 基金 资助 萍 萍 医院 小时 高强度 手术 手术 萍 萍 心脏 体外循环 萍 萍 重症 病房  \n",
       "46  瑞丽 阳光 基金 瑞丽 杂志社 中国扶贫基金会 专项基金 中国 弱势 儿童 群体 瑞丽 阳光 基金 河北 青海 四川 省 贫困地区 儿童 计划 瑞丽 杂志社 企业 公民 利用 瑞丽 阳光 基金 媒体 品牌 影响力 中国 弱势 儿童 社会 慈善 价值观 力量  \n",
       "57                                               个人信息 姓名 性别 年龄 程度 职业 手机 电子邮箱 通信地址 邮编 特长 技能 公益 情况 志愿 学校 鞋子 志愿者 管理工作 志愿 时间 工作日 工作日 工作日  "
      ]
     },
     "execution_count": 59,
     "metadata": {},
     "output_type": "execute_result"
    }
   ],
   "source": [
    "df1['data_nouns'] = pd.DataFrame(df1.content.apply(nouns))\n",
    "df1.head()"
   ]
  },
  {
   "cell_type": "code",
   "execution_count": null,
   "metadata": {},
   "outputs": [],
   "source": []
  },
  {
   "cell_type": "code",
   "execution_count": null,
   "metadata": {},
   "outputs": [],
   "source": []
  },
  {
   "cell_type": "code",
   "execution_count": 60,
   "metadata": {},
   "outputs": [],
   "source": [
    "# Further cleaning, removing stopwords\n",
    "import re\n",
    "temp =[]\n",
    "my_stop_words = open(r'C:\\Users\\admin\\Desktop\\stop-words.txt').read().split('\\n')\n",
    "\n",
    "for sentence in df1['data_nouns']:\n",
    "    words = [word for word in sentence.split(' ') if word not in my_stop_words]\n",
    "    temp.append(words)\n",
    "    \n",
    "final_X = temp"
   ]
  },
  {
   "cell_type": "code",
   "execution_count": null,
   "metadata": {},
   "outputs": [],
   "source": []
  },
  {
   "cell_type": "code",
   "execution_count": null,
   "metadata": {},
   "outputs": [],
   "source": []
  },
  {
   "cell_type": "code",
   "execution_count": 61,
   "metadata": {},
   "outputs": [
    {
     "data": {
      "text/plain": [
       "[['永康',\n",
       "  '病痛',\n",
       "  '孩子',\n",
       "  '先天性',\n",
       "  '心脏病',\n",
       "  '疝气',\n",
       "  '被遗弃',\n",
       "  '永康',\n",
       "  '医院',\n",
       "  '病情',\n",
       "  '出院',\n",
       "  '永康',\n",
       "  '思源',\n",
       "  '焦点',\n",
       "  '公益',\n",
       "  '基金',\n",
       "  '医院',\n",
       "  '手术',\n",
       "  '永康',\n",
       "  '腹股沟',\n",
       "  '肠梗阻',\n",
       "  '重症',\n",
       "  '监护室',\n",
       "  '病痛',\n",
       "  '永康',\n",
       "  '康复',\n",
       "  '出院',\n",
       "  '病情'],\n",
       " ['中国',\n",
       "  '慈善',\n",
       "  '档',\n",
       "  '大家',\n",
       "  '节目',\n",
       "  '中央电视台',\n",
       "  '社会',\n",
       "  '频道',\n",
       "  '节目',\n",
       "  '灾',\n",
       "  '资助',\n",
       "  '项目',\n",
       "  '服务项目',\n",
       "  '电视',\n",
       "  '项目',\n",
       "  '哪些项目',\n",
       "  '基金']]"
      ]
     },
     "execution_count": 61,
     "metadata": {},
     "output_type": "execute_result"
    }
   ],
   "source": [
    "final_X[:2]"
   ]
  },
  {
   "cell_type": "code",
   "execution_count": null,
   "metadata": {},
   "outputs": [],
   "source": []
  },
  {
   "cell_type": "code",
   "execution_count": 62,
   "metadata": {},
   "outputs": [],
   "source": [
    "sent = []\n",
    "for row in final_X:\n",
    "    sequ = ''\n",
    "    for word in row:\n",
    "        sequ = sequ + ' ' + word\n",
    "    sent.append(sequ)\n",
    "final_X = sent"
   ]
  },
  {
   "cell_type": "code",
   "execution_count": null,
   "metadata": {},
   "outputs": [],
   "source": []
  },
  {
   "cell_type": "code",
   "execution_count": 63,
   "metadata": {},
   "outputs": [
    {
     "name": "stdout",
     "output_type": "stream",
     "text": [
      "[' 永康 病痛 孩子 先天性 心脏病 疝气 被遗弃 永康 医院 病情 出院 永康 思源 焦点 公益 基金 医院 手术 永康 腹股沟 肠梗阻 重症 监护室 病痛 永康 康复 出院 病情', ' 中国 慈善 档 大家 节目 中央电视台 社会 频道 节目 灾 资助 项目 服务项目 电视 项目 哪些项目 基金']\n"
     ]
    }
   ],
   "source": [
    "print(final_X[:2])"
   ]
  },
  {
   "cell_type": "code",
   "execution_count": 64,
   "metadata": {},
   "outputs": [
    {
     "data": {
      "text/html": [
       "<div>\n",
       "<style scoped>\n",
       "    .dataframe tbody tr th:only-of-type {\n",
       "        vertical-align: middle;\n",
       "    }\n",
       "\n",
       "    .dataframe tbody tr th {\n",
       "        vertical-align: top;\n",
       "    }\n",
       "\n",
       "    .dataframe thead th {\n",
       "        text-align: right;\n",
       "    }\n",
       "</style>\n",
       "<table border=\"1\" class=\"dataframe\">\n",
       "  <thead>\n",
       "    <tr style=\"text-align: right;\">\n",
       "      <th></th>\n",
       "      <th>content</th>\n",
       "      <th>Doc_Id</th>\n",
       "      <th>word_count</th>\n",
       "      <th>data_nouns</th>\n",
       "      <th>cleaned</th>\n",
       "    </tr>\n",
       "  </thead>\n",
       "  <tbody>\n",
       "    <tr>\n",
       "      <td>3</td>\n",
       "      <td>不满，一岁，的，永康，是，个，饱经，病痛，折磨，的，孩子，，，２，０，１，１，年，７，月，５，日，出生，的，他，，，患有，先天性，心脏病，、，疝气，，，一，出生，便，被遗弃，。，２，０，１，２，年，１，月，８，日，，，才，５，个，月，大，的，永康，被，发现，呼吸困难，，，随后，送往，医院，进行，抢救，治疗，，，病情，稳定，后于，１，月，２，８，日，出院，。，，２，０，１，２，年，２，月，１，３，号，，，永康，在，思源，焦点，公益，基金，的，帮助，下，在，医院，接受，手术，治疗，，，术后，仅，８，天，，，永康，突发，右侧，腹股沟，斜，疝，嵌顿，及，肠梗阻，，，又，再次，进行，抢救，治疗，，，术后，进，重症，监护室，。，３，月，７，日，，，几经，病痛，折磨，的，永康，终于，康复，出院，，，目前，他，的，病情，已经，稳定，。</td>\n",
       "      <td>2</td>\n",
       "      <td>365</td>\n",
       "      <td>永康 病痛 孩子 先天性 心脏病 疝气 被遗弃 永康 医院 病情 出院 永康 思源 焦点 公益 基金 医院 手术 永康 腹股沟 肠梗阻 重症 监护室 病痛 永康 康复 出院 病情</td>\n",
       "      <td>永康 病痛 孩子 先天性 心脏病 疝气 被遗弃 永康 医院 病情 出院 永康 思源 焦点 公益 基金 医院 手术 永康 腹股沟 肠梗阻 重症 监护室 病痛 永康 康复 出院 病情</td>\n",
       "    </tr>\n",
       "    <tr>\n",
       "      <td>9</td>\n",
       "      <td>２，０，０，９，年，８，月，，，《，２，０，０，９，中国，慈善，导航，行动，》，第一季，正式，启动，，，此档，由，Ｃ，Ｃ，Ｔ，Ｖ，－，１，２，《，大家，看法，》，精心制作，的，节目，将，于，２，０，０，９，年，８，月，１，７，日至，８，月，２，３，日，每晚，８，点整，在，中央电视台，社会，与，法，频道，Ｃ，Ｃ，Ｔ，Ｖ，－，１，２，正式，播出，。，节目，将，从，１，０，０，多个，“，５，．，１，２，灾后，重建，资助，项目，”，中，挑选出，１，８，个，优秀，服务项目，参与，电视，评估，及，展示，，，１，８，个，项目，中，究竟，哪些项目，将，得到，千万，基金，的，支持，…，　，［，详细，］</td>\n",
       "      <td>6</td>\n",
       "      <td>295</td>\n",
       "      <td>中国 慈善 档 大家 节目 中央电视台 社会 频道 节目 灾 资助 项目 服务项目 电视 项目 哪些项目 基金</td>\n",
       "      <td>中国 慈善 档 大家 节目 中央电视台 社会 频道 节目 灾 资助 项目 服务项目 电视 项目 哪些项目 基金</td>\n",
       "    </tr>\n",
       "    <tr>\n",
       "      <td>29</td>\n",
       "      <td>２，０，０，８，年，８，月，的，一个，清晨，，，Ａ，市，女子，某，医院，大院，的，水淹，地里，，，一个，熟睡，的，女婴，被，人，发现，。，出生，仅，两天，的，她，被，父母，遗弃，，，因为，她，患有，先天性，法式，四联，症，，，心脏，动脉，导管，未闭，，，大动脉，异常，。，，随后，女婴，被，福利院，收养，坚强，的，她，安静，地，等待，着，希望，的，出现，。，，２，０，１，２，年，１，月，，，萍萍，来到，北京，进行，治疗，。，２，０，１，２，年，３，月，２，３，日，，，在，思源，焦点，公益，基金，的，资助，下，，，萍萍，在，医院，进行，了，近，１，０，小时，的，高强度，手术，。，，虽然，手术，是，成功，的，，，但，术后，萍萍，并，没有，完全，摆脱，危险，，，她，的，心脏，只能，借助，体外循环，才能，跳动，。，目前，，，坚强，的，萍萍，仍，在，重症，病房，接受，监护，。</td>\n",
       "      <td>23</td>\n",
       "      <td>390</td>\n",
       "      <td>市 女子 医院 大院 水淹 女婴 人 父母 先天性 法式 四联 心脏 动脉 导管 大动脉 女婴 福利院 安静 萍 萍 北京 思源 焦点 公益 基金 资助 萍 萍 医院 小时 高强度 手术 手术 萍 萍 心脏 体外循环 萍 萍 重症 病房</td>\n",
       "      <td>市 女子 医院 大院 水淹 女婴 人 父母 先天性 法式 四联 心脏 动脉 导管 大动脉 女婴 福利院 安静 萍 萍 北京 思源 焦点 公益 基金 资助 萍 萍 医院 小时 高强度 手术 手术 萍 萍 心脏 体外循环 萍 萍 重症 病房</td>\n",
       "    </tr>\n",
       "    <tr>\n",
       "      <td>46</td>\n",
       "      <td>瑞丽，阳光，基金，成立，于，２，０，０，８，年，１，２，月，１，２，日，，，是，《，瑞丽，》，杂志社，与，中国扶贫基金会，合作，成立，的，专项基金，，，专注，于，服务，中国，弱势，儿童，群体，。，，瑞丽，阳光，基金，成立，两年，以来，，，已，陆续，在，河北，、，青海，、，四川，等，省，六个，国家级，贫困地区，启动，了，系列，关爱，儿童，的，援助，计划，。，，《，瑞丽，》，杂志社，作为，一个，负责，任，的，企业，公民，，，将，有效，利用，“，瑞丽，阳光，基金，”，和，媒体，品牌，影响力，，，为，改善，中国，弱势，儿童，的，生存环境，和，推动，社会，慈善，价值观，的，形成，尽，一份，力量，。，［，详细，］</td>\n",
       "      <td>38</td>\n",
       "      <td>306</td>\n",
       "      <td>瑞丽 阳光 基金 瑞丽 杂志社 中国扶贫基金会 专项基金 中国 弱势 儿童 群体 瑞丽 阳光 基金 河北 青海 四川 省 贫困地区 儿童 计划 瑞丽 杂志社 企业 公民 利用 瑞丽 阳光 基金 媒体 品牌 影响力 中国 弱势 儿童 社会 慈善 价值观 力量</td>\n",
       "      <td>瑞丽 阳光 基金 瑞丽 杂志社 中国扶贫基金会 专项基金 中国 弱势 儿童 群体 瑞丽 阳光 基金 河北 青海 四川 省 贫困地区 儿童 计划 瑞丽 杂志社 企业 公民 利用 瑞丽 阳光 基金 媒体 品牌 影响力 中国 弱势 儿童 社会 慈善 价值观 力量</td>\n",
       "    </tr>\n",
       "    <tr>\n",
       "      <td>57</td>\n",
       "      <td>个人信息，，姓名，＊，　，：，，性别，＊，　，：，，年龄，＊，　，：，，教育，程度，＊，　，：，，职业，＊，　，：，，手机，＊，　，：，，电子邮箱，＊，　，：，，Ｑ，Ｑ，／，Ｍ，Ｓ，Ｎ，号，：，通信地址，＊，　，：，，邮编，＊，　，：，，特长，或，技能，＊，　，：，，参加，其他，公益，组织，或，活动，情况，　，：，，愿意，参加，的，志愿，服务，（，请画，勾，，，可多选，），，宣传，发动，工作，　，学校，考察，与，调研，活动，，鞋子，的，发放，工作，　，有关，的，后续，工作，，志愿者，招募，和，管理工作，　，其他，，志愿，服务，时间，选择，（，请画，勾，，，可多选，），，工作日，的，上午，　，工作日，的，下午，，工作日，的，晚上，　，周六，／，日，的，上午，，周六，／，日，的，下午，　，周六，／，日，的，晚上，，其它</td>\n",
       "      <td>49</td>\n",
       "      <td>382</td>\n",
       "      <td>个人信息 姓名 性别 年龄 程度 职业 手机 电子邮箱 通信地址 邮编 特长 技能 公益 情况 志愿 学校 鞋子 志愿者 管理工作 志愿 时间 工作日 工作日 工作日</td>\n",
       "      <td>个人信息 姓名 性别 年龄 程度 职业 手机 电子邮箱 通信地址 邮编 特长 技能 公益 情况 志愿 学校 鞋子 志愿者 管理工作 志愿 时间 工作日 工作日 工作日</td>\n",
       "    </tr>\n",
       "  </tbody>\n",
       "</table>\n",
       "</div>"
      ],
      "text/plain": [
       "                                                                                                                                                                                                                                                                                                                                                                                                content  \\\n",
       "3                          不满，一岁，的，永康，是，个，饱经，病痛，折磨，的，孩子，，，２，０，１，１，年，７，月，５，日，出生，的，他，，，患有，先天性，心脏病，、，疝气，，，一，出生，便，被遗弃，。，２，０，１，２，年，１，月，８，日，，，才，５，个，月，大，的，永康，被，发现，呼吸困难，，，随后，送往，医院，进行，抢救，治疗，，，病情，稳定，后于，１，月，２，８，日，出院，。，，２，０，１，２，年，２，月，１，３，号，，，永康，在，思源，焦点，公益，基金，的，帮助，下，在，医院，接受，手术，治疗，，，术后，仅，８，天，，，永康，突发，右侧，腹股沟，斜，疝，嵌顿，及，肠梗阻，，，又，再次，进行，抢救，治疗，，，术后，进，重症，监护室，。，３，月，７，日，，，几经，病痛，折磨，的，永康，终于，康复，出院，，，目前，他，的，病情，已经，稳定，。   \n",
       "9                                                                                               ２，０，０，９，年，８，月，，，《，２，０，０，９，中国，慈善，导航，行动，》，第一季，正式，启动，，，此档，由，Ｃ，Ｃ，Ｔ，Ｖ，－，１，２，《，大家，看法，》，精心制作，的，节目，将，于，２，０，０，９，年，８，月，１，７，日至，８，月，２，３，日，每晚，８，点整，在，中央电视台，社会，与，法，频道，Ｃ，Ｃ，Ｔ，Ｖ，－，１，２，正式，播出，。，节目，将，从，１，０，０，多个，“，５，．，１，２，灾后，重建，资助，项目，”，中，挑选出，１，８，个，优秀，服务项目，参与，电视，评估，及，展示，，，１，８，个，项目，中，究竟，哪些项目，将，得到，千万，基金，的，支持，…，　，［，详细，］   \n",
       "29  ２，０，０，８，年，８，月，的，一个，清晨，，，Ａ，市，女子，某，医院，大院，的，水淹，地里，，，一个，熟睡，的，女婴，被，人，发现，。，出生，仅，两天，的，她，被，父母，遗弃，，，因为，她，患有，先天性，法式，四联，症，，，心脏，动脉，导管，未闭，，，大动脉，异常，。，，随后，女婴，被，福利院，收养，坚强，的，她，安静，地，等待，着，希望，的，出现，。，，２，０，１，２，年，１，月，，，萍萍，来到，北京，进行，治疗，。，２，０，１，２，年，３，月，２，３，日，，，在，思源，焦点，公益，基金，的，资助，下，，，萍萍，在，医院，进行，了，近，１，０，小时，的，高强度，手术，。，，虽然，手术，是，成功，的，，，但，术后，萍萍，并，没有，完全，摆脱，危险，，，她，的，心脏，只能，借助，体外循环，才能，跳动，。，目前，，，坚强，的，萍萍，仍，在，重症，病房，接受，监护，。   \n",
       "46                                                                                     瑞丽，阳光，基金，成立，于，２，０，０，８，年，１，２，月，１，２，日，，，是，《，瑞丽，》，杂志社，与，中国扶贫基金会，合作，成立，的，专项基金，，，专注，于，服务，中国，弱势，儿童，群体，。，，瑞丽，阳光，基金，成立，两年，以来，，，已，陆续，在，河北，、，青海，、，四川，等，省，六个，国家级，贫困地区，启动，了，系列，关爱，儿童，的，援助，计划，。，，《，瑞丽，》，杂志社，作为，一个，负责，任，的，企业，公民，，，将，有效，利用，“，瑞丽，阳光，基金，”，和，媒体，品牌，影响力，，，为，改善，中国，弱势，儿童，的，生存环境，和，推动，社会，慈善，价值观，的，形成，尽，一份，力量，。，［，详细，］   \n",
       "57                           个人信息，，姓名，＊，　，：，，性别，＊，　，：，，年龄，＊，　，：，，教育，程度，＊，　，：，，职业，＊，　，：，，手机，＊，　，：，，电子邮箱，＊，　，：，，Ｑ，Ｑ，／，Ｍ，Ｓ，Ｎ，号，：，通信地址，＊，　，：，，邮编，＊，　，：，，特长，或，技能，＊，　，：，，参加，其他，公益，组织，或，活动，情况，　，：，，愿意，参加，的，志愿，服务，（，请画，勾，，，可多选，），，宣传，发动，工作，　，学校，考察，与，调研，活动，，鞋子，的，发放，工作，　，有关，的，后续，工作，，志愿者，招募，和，管理工作，　，其他，，志愿，服务，时间，选择，（，请画，勾，，，可多选，），，工作日，的，上午，　，工作日，的，下午，，工作日，的，晚上，　，周六，／，日，的，上午，，周六，／，日，的，下午，　，周六，／，日，的，晚上，，其它   \n",
       "\n",
       "    Doc_Id  word_count  \\\n",
       "3        2         365   \n",
       "9        6         295   \n",
       "29      23         390   \n",
       "46      38         306   \n",
       "57      49         382   \n",
       "\n",
       "                                                                                                                          data_nouns  \\\n",
       "3                                          永康 病痛 孩子 先天性 心脏病 疝气 被遗弃 永康 医院 病情 出院 永康 思源 焦点 公益 基金 医院 手术 永康 腹股沟 肠梗阻 重症 监护室 病痛 永康 康复 出院 病情   \n",
       "9                                                                            中国 慈善 档 大家 节目 中央电视台 社会 频道 节目 灾 资助 项目 服务项目 电视 项目 哪些项目 基金   \n",
       "29            市 女子 医院 大院 水淹 女婴 人 父母 先天性 法式 四联 心脏 动脉 导管 大动脉 女婴 福利院 安静 萍 萍 北京 思源 焦点 公益 基金 资助 萍 萍 医院 小时 高强度 手术 手术 萍 萍 心脏 体外循环 萍 萍 重症 病房   \n",
       "46  瑞丽 阳光 基金 瑞丽 杂志社 中国扶贫基金会 专项基金 中国 弱势 儿童 群体 瑞丽 阳光 基金 河北 青海 四川 省 贫困地区 儿童 计划 瑞丽 杂志社 企业 公民 利用 瑞丽 阳光 基金 媒体 品牌 影响力 中国 弱势 儿童 社会 慈善 价值观 力量   \n",
       "57                                               个人信息 姓名 性别 年龄 程度 职业 手机 电子邮箱 通信地址 邮编 特长 技能 公益 情况 志愿 学校 鞋子 志愿者 管理工作 志愿 时间 工作日 工作日 工作日   \n",
       "\n",
       "                                                                                                                              cleaned  \n",
       "3                                           永康 病痛 孩子 先天性 心脏病 疝气 被遗弃 永康 医院 病情 出院 永康 思源 焦点 公益 基金 医院 手术 永康 腹股沟 肠梗阻 重症 监护室 病痛 永康 康复 出院 病情  \n",
       "9                                                                             中国 慈善 档 大家 节目 中央电视台 社会 频道 节目 灾 资助 项目 服务项目 电视 项目 哪些项目 基金  \n",
       "29             市 女子 医院 大院 水淹 女婴 人 父母 先天性 法式 四联 心脏 动脉 导管 大动脉 女婴 福利院 安静 萍 萍 北京 思源 焦点 公益 基金 资助 萍 萍 医院 小时 高强度 手术 手术 萍 萍 心脏 体外循环 萍 萍 重症 病房  \n",
       "46   瑞丽 阳光 基金 瑞丽 杂志社 中国扶贫基金会 专项基金 中国 弱势 儿童 群体 瑞丽 阳光 基金 河北 青海 四川 省 贫困地区 儿童 计划 瑞丽 杂志社 企业 公民 利用 瑞丽 阳光 基金 媒体 品牌 影响力 中国 弱势 儿童 社会 慈善 价值观 力量  \n",
       "57                                                个人信息 姓名 性别 年龄 程度 职业 手机 电子邮箱 通信地址 邮编 特长 技能 公益 情况 志愿 学校 鞋子 志愿者 管理工作 志愿 时间 工作日 工作日 工作日  "
      ]
     },
     "execution_count": 64,
     "metadata": {},
     "output_type": "execute_result"
    }
   ],
   "source": [
    "# remove unwanted characters, numbers and symbols \n",
    "df1['cleaned'] = final_X\n",
    "df1.head()"
   ]
  },
  {
   "cell_type": "code",
   "execution_count": null,
   "metadata": {},
   "outputs": [],
   "source": []
  },
  {
   "cell_type": "code",
   "execution_count": 65,
   "metadata": {},
   "outputs": [],
   "source": [
    "# save for use later\n",
    "df1.to_pickle('data_prep.pkl')"
   ]
  },
  {
   "cell_type": "code",
   "execution_count": null,
   "metadata": {},
   "outputs": [],
   "source": []
  },
  {
   "cell_type": "code",
   "execution_count": null,
   "metadata": {},
   "outputs": [],
   "source": [
    "#df1 = pd.read_pickle(data_prep.pkl)"
   ]
  },
  {
   "cell_type": "code",
   "execution_count": null,
   "metadata": {},
   "outputs": [],
   "source": []
  }
 ],
 "metadata": {
  "kernelspec": {
   "display_name": "Python 3",
   "language": "python",
   "name": "python3"
  },
  "language_info": {
   "codemirror_mode": {
    "name": "ipython",
    "version": 3
   },
   "file_extension": ".py",
   "mimetype": "text/x-python",
   "name": "python",
   "nbconvert_exporter": "python",
   "pygments_lexer": "ipython3",
   "version": "3.7.4"
  }
 },
 "nbformat": 4,
 "nbformat_minor": 4
}
