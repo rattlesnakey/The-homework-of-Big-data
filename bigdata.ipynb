{
 "cells": [
  {
   "cell_type": "code",
   "execution_count": 1,
   "metadata": {},
   "outputs": [
    {
     "name": "stdout",
     "output_type": "stream",
     "text": [
      "完全奇异值分解：\n",
      "\n",
      "u:\n",
      "\n",
      "[[ 0.4472136   0.89442719]\n",
      " [ 0.89442719 -0.4472136 ]]\n",
      "sigma:\n",
      "\n",
      "[[3. 0. 0.]\n",
      " [0. 2. 0.]]\n",
      "vt:\n",
      "\n",
      "[[ 7.45355992e-01  2.98142397e-01  5.96284794e-01]\n",
      " [-2.22044605e-16  8.94427191e-01 -4.47213595e-01]\n",
      " [-6.66666667e-01  3.33333333e-01  6.66666667e-01]]\n",
      "紧奇异值分解：\n",
      "\n",
      "u:\n",
      "\n",
      "[[ 0.4472136   0.89442719]\n",
      " [ 0.89442719 -0.4472136 ]]\n",
      "sigma:\n",
      "\n",
      "[[3. 0.]\n",
      " [0. 2.]]\n",
      "vt:\n",
      "\n",
      "[[ 7.45355992e-01  2.98142397e-01  5.96284794e-01]\n",
      " [-2.22044605e-16  8.94427191e-01 -4.47213595e-01]]\n"
     ]
    }
   ],
   "source": [
    "from numpy import *\n",
    "import numpy as np\n",
    "x=array([[1,2,0],[2,0,2]]) \n",
    "a,b,c=np.linalg.svd(x) \n",
    "d=[[0,0,0],[0,0,0]]\n",
    "d[0][0]=b[0]\n",
    "d[1][1]=b[1]\n",
    "print(\"完全奇异值分解：\\n\")\n",
    "print(\"u:\\n\")\n",
    "print(a)\n",
    "print(\"sigma:\\n\")\n",
    "print(array(d))\n",
    "print(\"vt:\\n\")\n",
    "print(c)\n",
    "e,f,g=np.linalg.svd(x,full_matrices=0)\n",
    "print(\"紧奇异值分解：\\n\")\n",
    "print(\"u:\\n\")\n",
    "print(e)\n",
    "h=[[0,0],[0,0]]\n",
    "h[0][0]=f[0]\n",
    "h[1][1]=f[1]\n",
    "print(\"sigma:\\n\")\n",
    "print(array(h))\n",
    "print(\"vt:\\n\")\n",
    "print(g)\n"
   ]
  },
  {
   "cell_type": "code",
   "execution_count": null,
   "metadata": {},
   "outputs": [],
   "source": []
  },
  {
   "cell_type": "code",
   "execution_count": 40,
   "metadata": {},
   "outputs": [
    {
     "name": "stdout",
     "output_type": "stream",
     "text": [
      "完全奇异值分解：\n",
      "\n",
      "u:\n",
      "\n",
      "[[-0.4472136  -0.89442719]\n",
      " [-0.89442719  0.4472136 ]]\n",
      "sigma:\n",
      "\n",
      "[[-3.  0.  0.]\n",
      " [ 0.  2.  0.]]\n",
      "vt:\n",
      "\n",
      "[[ 7.45355992e-01  2.98142397e-01  5.96284794e-01]\n",
      " [-9.93013661e-17 -8.94427191e-01  4.47213595e-01]\n",
      " [ 6.66666667e-01 -3.33333333e-01 -6.66666667e-01]]\n",
      "紧奇异值分解：\n",
      "\n",
      "u:\n",
      "\n",
      "[[-0.4472136  -0.89442719]\n",
      " [-0.89442719  0.4472136 ]]\n",
      "sigma:\n",
      "\n",
      "[[-3.  0.]\n",
      " [ 0.  2.]]\n",
      "vt:\n",
      "\n",
      "[[ 7.45355992e-01  2.98142397e-01  5.96284794e-01]\n",
      " [-9.93013661e-17 -8.94427191e-01  4.47213595e-01]]\n",
      "\n",
      "\n",
      "[[ 2.00000000e+00 -2.22044605e-16  2.00000000e+00]\n",
      " [ 1.00000000e+00  2.00000000e+00 -6.66133815e-16]]\n"
     ]
    }
   ],
   "source": [
    "import numpy \n",
    "from numpy import * \n",
    "import numpy as np \n",
    "x= array([[1,2,0],[2,0,2]])\n",
    "y=x.T \n",
    "z=np.dot(x,y) \n",
    "m=np.dot(y,x) \n",
    "a,b=np.linalg.eig(m)\n",
    "c,d=np.linalg.eig(z)\n",
    "matrix1=[[0,0,0],[0,0,0],[0,0,0]] \n",
    "matrix2=[[0,0],[0,0]]\n",
    "for i in range(0,3):\n",
    "    for j in range(0,3):\n",
    "        matrix1[i][j]=b[j][i] \n",
    "for i in range(0,2):\n",
    "    for j in range(0,2):\n",
    "        matrix2[i][j]=d[j][i]\n",
    "l=[[0,0,0],[0,0,0]] \n",
    "matrix3=np.dot(x,array(matrix1[0]))\n",
    "k=matrix3[0]/matrix2[1][0]\n",
    "l[0][0]=k\n",
    "matrix3=np.dot(x,array(matrix1[2]))\n",
    "k=matrix3[0]/matrix2[0][0]\n",
    "l[1][1]=k\n",
    "l=array(l)\n",
    "\n",
    "for i in range(0,3):\n",
    "    \n",
    "        for j in range(0,3):\n",
    "            matrix1[i][j]=b[j][i] \n",
    "matrix5=[[0,0,0],[0,0,0],[0,0,0]] \n",
    "matrix5[0]=matrix1[0] \n",
    "matrix5[1]=matrix1[2]\n",
    "matrix5[2]=matrix1[1]\n",
    "matrix6=[[0,0],[0,0]]\n",
    "matrix6[0]=matrix2[1]\n",
    "matrix6[1]=matrix2[0]\n",
    "print(\"完全奇异值分解：\\n\")\n",
    "print(\"u:\\n\")\n",
    "print(array(matrix6))\n",
    "print(\"sigma:\\n\")##问下为什么-3 （就是用另外一个方法）\n",
    "print(l)\n",
    "print(\"vt:\\n\")\n",
    "print(array(matrix5))\n",
    "B=np.dot(array(matrix2),l)\n",
    "A=np.dot(B,array(matrix5)) \n",
    "\n",
    "print(\"紧奇异值分解：\\n\")\n",
    "print(\"u:\\n\")\n",
    "print(array(matrix6))\n",
    "print(\"sigma:\\n\")##问下为什么-3 （就是用另外一个方法）\n",
    "mm=[[0,0],[0,0]]\n",
    "mm[0][0]=l[0][0]\n",
    "mm[1][1]=l[1][1]\n",
    "print(array(mm))\n",
    "print(\"vt:\\n\")\n",
    "matrix7=[[0,0,0],[0,0,0]]\n",
    "matrix7[0]=matrix5[0]\n",
    "matrix7[1]=matrix5[1]\n",
    "print(array(matrix7))\n",
    "print(\"\\n\")    \n",
    "print(A)"
   ]
  },
  {
   "cell_type": "code",
   "execution_count": null,
   "metadata": {},
   "outputs": [],
   "source": []
  },
  {
   "cell_type": "code",
   "execution_count": null,
   "metadata": {},
   "outputs": [],
   "source": []
  },
  {
   "cell_type": "code",
   "execution_count": null,
   "metadata": {},
   "outputs": [],
   "source": []
  },
  {
   "cell_type": "code",
   "execution_count": null,
   "metadata": {},
   "outputs": [],
   "source": []
  },
  {
   "cell_type": "code",
   "execution_count": null,
   "metadata": {},
   "outputs": [],
   "source": []
  },
  {
   "cell_type": "code",
   "execution_count": null,
   "metadata": {},
   "outputs": [],
   "source": []
  },
  {
   "cell_type": "code",
   "execution_count": null,
   "metadata": {},
   "outputs": [],
   "source": []
  },
  {
   "cell_type": "code",
   "execution_count": null,
   "metadata": {},
   "outputs": [],
   "source": []
  },
  {
   "cell_type": "code",
   "execution_count": null,
   "metadata": {},
   "outputs": [],
   "source": []
  },
  {
   "cell_type": "code",
   "execution_count": null,
   "metadata": {},
   "outputs": [],
   "source": []
  },
  {
   "cell_type": "code",
   "execution_count": 28,
   "metadata": {},
   "outputs": [
    {
     "name": "stdout",
     "output_type": "stream",
     "text": [
      "[[1 2]\n",
      " [2 1]]\n"
     ]
    }
   ],
   "source": []
  },
  {
   "cell_type": "code",
   "execution_count": null,
   "metadata": {},
   "outputs": [],
   "source": []
  },
  {
   "cell_type": "code",
   "execution_count": 31,
   "metadata": {},
   "outputs": [
    {
     "name": "stdout",
     "output_type": "stream",
     "text": [
      "U=\n",
      " [[-0.89442719 -0.4472136 ]\n",
      " [ 0.4472136  -0.89442719]]\n",
      "sigma=\n",
      " [[2. 0.]\n",
      " [0. 3.]]\n",
      "VT=\n",
      " [[ 0.         -0.89442719  0.4472136 ]\n",
      " [-0.74535599 -0.2981424  -0.59628479]]\n"
     ]
    }
   ],
   "source": [
    "import numpy as np \n",
    "from numpy import linalg \n",
    "import math\n",
    "A = np.asarray([[1,2,0],[2,0,2]]) \n",
    "tmp = A.dot(A.T)\n",
    "S,U = linalg.eig(tmp)\n",
    "S = np.diag(np.sqrt(S))\n",
    "V = A.T.dot(U).dot(linalg.inv(S))\n",
    "print(\"U=\\n\",U) \n",
    "print(\"sigma=\\n\",S)\n",
    "print(\"VT=\\n\",V.T)"
   ]
  },
  {
   "cell_type": "code",
   "execution_count": null,
   "metadata": {},
   "outputs": [],
   "source": []
  },
  {
   "cell_type": "code",
   "execution_count": null,
   "metadata": {},
   "outputs": [],
   "source": []
  },
  {
   "cell_type": "code",
   "execution_count": null,
   "metadata": {},
   "outputs": [],
   "source": []
  },
  {
   "cell_type": "code",
   "execution_count": null,
   "metadata": {},
   "outputs": [],
   "source": []
  },
  {
   "cell_type": "code",
   "execution_count": null,
   "metadata": {},
   "outputs": [],
   "source": []
  },
  {
   "cell_type": "code",
   "execution_count": null,
   "metadata": {},
   "outputs": [],
   "source": []
  },
  {
   "cell_type": "code",
   "execution_count": null,
   "metadata": {},
   "outputs": [],
   "source": []
  },
  {
   "cell_type": "code",
   "execution_count": null,
   "metadata": {},
   "outputs": [],
   "source": []
  },
  {
   "cell_type": "code",
   "execution_count": null,
   "metadata": {},
   "outputs": [],
   "source": []
  },
  {
   "cell_type": "code",
   "execution_count": null,
   "metadata": {},
   "outputs": [],
   "source": []
  },
  {
   "cell_type": "code",
   "execution_count": null,
   "metadata": {},
   "outputs": [],
   "source": []
  },
  {
   "cell_type": "code",
   "execution_count": null,
   "metadata": {},
   "outputs": [],
   "source": []
  },
  {
   "cell_type": "code",
   "execution_count": null,
   "metadata": {},
   "outputs": [],
   "source": []
  },
  {
   "cell_type": "code",
   "execution_count": null,
   "metadata": {},
   "outputs": [],
   "source": []
  }
 ],
 "metadata": {
  "kernelspec": {
   "display_name": "Python 3",
   "language": "python",
   "name": "python3"
  },
  "language_info": {
   "codemirror_mode": {
    "name": "ipython",
    "version": 3
   },
   "file_extension": ".py",
   "mimetype": "text/x-python",
   "name": "python",
   "nbconvert_exporter": "python",
   "pygments_lexer": "ipython3",
   "version": "3.7.4"
  }
 },
 "nbformat": 4,
 "nbformat_minor": 4
}
